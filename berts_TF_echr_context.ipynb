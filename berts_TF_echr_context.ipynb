{
  "cells": [
    {
      "cell_type": "markdown",
      "metadata": {
        "id": "view-in-github",
        "colab_type": "text"
      },
      "source": [
        "<a href=\"https://colab.research.google.com/github/NickSotirakis/attMPTI/blob/main/berts_TF_echr_context.ipynb\" target=\"_parent\"><img src=\"https://colab.research.google.com/assets/colab-badge.svg\" alt=\"Open In Colab\"/></a>"
      ]
    },
    {
      "cell_type": "code",
      "execution_count": null,
      "metadata": {
        "colab": {
          "base_uri": "https://localhost:8080/"
        },
        "id": "Ksb3oKW1Lsu2",
        "outputId": "1e27c532-d1b8-4664-f637-0f19692ff69b"
      },
      "outputs": [
        {
          "output_type": "stream",
          "name": "stdout",
          "text": [
            "Looking in indexes: https://pypi.org/simple, https://us-python.pkg.dev/colab-wheels/public/simple/\n",
            "Requirement already satisfied: transformers in /usr/local/lib/python3.8/dist-packages (4.25.1)\n",
            "Requirement already satisfied: packaging>=20.0 in /usr/local/lib/python3.8/dist-packages (from transformers) (21.3)\n",
            "Requirement already satisfied: filelock in /usr/local/lib/python3.8/dist-packages (from transformers) (3.8.0)\n",
            "Requirement already satisfied: pyyaml>=5.1 in /usr/local/lib/python3.8/dist-packages (from transformers) (6.0)\n",
            "Requirement already satisfied: tokenizers!=0.11.3,<0.14,>=0.11.1 in /usr/local/lib/python3.8/dist-packages (from transformers) (0.13.2)\n",
            "Requirement already satisfied: regex!=2019.12.17 in /usr/local/lib/python3.8/dist-packages (from transformers) (2022.6.2)\n",
            "Requirement already satisfied: huggingface-hub<1.0,>=0.10.0 in /usr/local/lib/python3.8/dist-packages (from transformers) (0.11.1)\n",
            "Requirement already satisfied: requests in /usr/local/lib/python3.8/dist-packages (from transformers) (2.23.0)\n",
            "Requirement already satisfied: tqdm>=4.27 in /usr/local/lib/python3.8/dist-packages (from transformers) (4.64.1)\n",
            "Requirement already satisfied: numpy>=1.17 in /usr/local/lib/python3.8/dist-packages (from transformers) (1.21.6)\n",
            "Requirement already satisfied: typing-extensions>=3.7.4.3 in /usr/local/lib/python3.8/dist-packages (from huggingface-hub<1.0,>=0.10.0->transformers) (4.4.0)\n",
            "Requirement already satisfied: pyparsing!=3.0.5,>=2.0.2 in /usr/local/lib/python3.8/dist-packages (from packaging>=20.0->transformers) (3.0.9)\n",
            "Requirement already satisfied: urllib3!=1.25.0,!=1.25.1,<1.26,>=1.21.1 in /usr/local/lib/python3.8/dist-packages (from requests->transformers) (1.24.3)\n",
            "Requirement already satisfied: chardet<4,>=3.0.2 in /usr/local/lib/python3.8/dist-packages (from requests->transformers) (3.0.4)\n",
            "Requirement already satisfied: certifi>=2017.4.17 in /usr/local/lib/python3.8/dist-packages (from requests->transformers) (2022.9.24)\n",
            "Requirement already satisfied: idna<3,>=2.5 in /usr/local/lib/python3.8/dist-packages (from requests->transformers) (2.10)\n"
          ]
        }
      ],
      "source": [
        "!pip install transformers\n",
        "\n",
        "import json\n",
        "import pandas as pd\n",
        "\n",
        "import os\n",
        "\n",
        "import numpy as np\n",
        "import pandas as pd\n",
        "import tensorflow as tf\n",
        "from tensorflow.keras.optimizers import Adam\n",
        "from tensorflow.keras.models import Model\n",
        "from tensorflow.keras.callbacks import ModelCheckpoint\n",
        "\n",
        "import transformers\n",
        "from transformers import TFAutoModel, AutoTokenizer, AutoConfig\n",
        "from tqdm.notebook import tqdm\n",
        "from tokenizers import Tokenizer, models, pre_tokenizers, decoders, processors\n",
        "\n",
        "from fastai.text import *\n",
        "from tensorflow.keras.layers import Dense, Input, Dropout, Flatten\n",
        "\n",
        "from tensorflow import keras\n",
        "from tensorflow.keras import layers"
      ]
    },
    {
      "cell_type": "code",
      "execution_count": null,
      "metadata": {
        "colab": {
          "base_uri": "https://localhost:8080/"
        },
        "id": "bbG8G4bl34n5",
        "outputId": "64e0e5f9-fb32-4e00-e2ae-d5b681b1b446"
      },
      "outputs": [
        {
          "output_type": "stream",
          "name": "stdout",
          "text": [
            "Drive already mounted at /content/drive; to attempt to forcibly remount, call drive.mount(\"/content/drive\", force_remount=True).\n"
          ]
        },
        {
          "output_type": "execute_result",
          "data": {
            "text/plain": [
              "42"
            ]
          },
          "metadata": {},
          "execution_count": 49
        }
      ],
      "source": [
        "from google.colab import drive\n",
        "drive.mount('/content/drive')\n",
        "\n",
        "f = open('/content/drive/My Drive/ECHR_Corpus.json')\n",
        "echr = json.load(f)\n",
        "len(echr)"
      ]
    },
    {
      "cell_type": "code",
      "execution_count": null,
      "metadata": {
        "colab": {
          "base_uri": "https://localhost:8080/"
        },
        "id": "95aLefe8NOoe",
        "outputId": "052ee888-d347-47d8-ec23-39384ef5c8a8"
      },
      "outputs": [
        {
          "output_type": "execute_result",
          "data": {
            "text/plain": [
              "10456"
            ]
          },
          "metadata": {},
          "execution_count": 50
        }
      ],
      "source": [
        "args = []\n",
        "all_clauses = []\n",
        "for i in range(len(echr)):\n",
        "  args.append(echr[i]['arguments'])\n",
        "  all_clauses.extend(echr[i][\"clauses\"])\n",
        "args[0][1]\n",
        "len(all_clauses)"
      ]
    },
    {
      "cell_type": "code",
      "execution_count": null,
      "metadata": {
        "colab": {
          "base_uri": "https://localhost:8080/"
        },
        "id": "K4G_t_2dMkbA",
        "outputId": "e326d6f3-9327-42ab-c101-772832b872c3"
      },
      "outputs": [
        {
          "output_type": "stream",
          "name": "stdout",
          "text": [
            "1951\n"
          ]
        }
      ],
      "source": [
        "premises = []\n",
        "for a in args:\n",
        "  for d in a: \n",
        "    for id in d['premises']:\n",
        "      premises.append(id)\n",
        "print(len(premises))"
      ]
    },
    {
      "cell_type": "code",
      "execution_count": null,
      "metadata": {
        "colab": {
          "base_uri": "https://localhost:8080/"
        },
        "id": "2tQ3Oz56Rd2t",
        "outputId": "3d815510-3cbc-4da6-8baa-54c4e144d0e6"
      },
      "outputs": [
        {
          "output_type": "stream",
          "name": "stdout",
          "text": [
            "743\n"
          ]
        }
      ],
      "source": [
        "conclusions = []\n",
        "for a in args:\n",
        "  for d in a:\n",
        "    conclusions.append(d['conclusion'])\n",
        "print(len(conclusions))"
      ]
    },
    {
      "cell_type": "code",
      "source": [
        "num_clauses = len(all_clauses)\n",
        "indices = np.random.choice(num_clauses, size=num_clauses, replace=False)\n",
        "train_indices = indices[:int(0.9*num_clauses)]\n",
        "test_indices = indices[int(0.9*num_clauses):]\n",
        "\n",
        "test_ids=[]\n",
        "for i in range(num_clauses):\n",
        "  if i in test_indices:\n",
        "    test_ids.append(all_clauses[i][\"_id\"])\n",
        "\n",
        "len(test_ids)"
      ],
      "metadata": {
        "colab": {
          "base_uri": "https://localhost:8080/"
        },
        "id": "3kSl-SItCloR",
        "outputId": "ed89dce3-1a71-404d-904c-114bcbc7152d"
      },
      "execution_count": null,
      "outputs": [
        {
          "output_type": "execute_result",
          "data": {
            "text/plain": [
              "1046"
            ]
          },
          "metadata": {},
          "execution_count": 53
        }
      ]
    },
    {
      "cell_type": "code",
      "source": [
        "  "
      ],
      "metadata": {
        "id": "6W-GF7PQCB7l"
      },
      "execution_count": null,
      "outputs": []
    },
    {
      "cell_type": "code",
      "execution_count": null,
      "metadata": {
        "id": "GSEeUQbKHFtd"
      },
      "outputs": [],
      "source": [
        "big_dict = {'ID' : [], 'TEXT' : [],'SEQ_START' : [], 'SEQ_END' : []}\n",
        "list_of_dicts = []\n",
        "for i in range(len(echr)):\n",
        "  txt = echr[i]['text']\n",
        "  echr[i]['clauses'].sort(key=lambda x: x[\"start\"])\n",
        "  clauses = echr[i]['clauses']\n",
        "\n",
        "  for i in range(len(clauses)):\n",
        "    context=\"\"\n",
        "    for j in range(min(i,5),0,-1):\n",
        "      \n",
        "      if clauses[i-j][\"_id\"] not in test_ids: #what happens if current clause[i] is part of the test set?\n",
        "        context += txt[clauses[i-j][\"start\"]:clauses[i-j][\"end\"]]\n",
        "    \n",
        "    clauses[i][\"context\"] = context\n",
        "\n",
        "  d = {'ID':[d['_id'] for d in clauses], 'TEXT': [txt[d['start']:d['end']] for d in clauses],'SEQ_START': [d['start'] for d in clauses],'SEQ_END': [d['end'] for d in clauses], 'CONTEXT':[d[\"context\"] for d in clauses]}\n",
        "  list_of_dicts.append(d)\n"
      ]
    },
    {
      "cell_type": "code",
      "execution_count": null,
      "metadata": {
        "id": "4asxsbftLcYw"
      },
      "outputs": [],
      "source": [
        "dfs = pd.concat([pd.DataFrame(dfs) for dfs in list_of_dicts])"
      ]
    },
    {
      "cell_type": "code",
      "execution_count": null,
      "metadata": {
        "colab": {
          "base_uri": "https://localhost:8080/",
          "height": 424
        },
        "id": "-_YveJ25Lzly",
        "outputId": "f013d3b4-a7a2-4386-d6f7-bd23db365df8"
      },
      "outputs": [
        {
          "output_type": "execute_result",
          "data": {
            "text/plain": [
              "                           ID  \\\n",
              "0    5d3fbf383e582511aa1cc856   \n",
              "1    5d3fbf3d3e582511aa1cc857   \n",
              "2    5d3fbf413e582511aa1cc858   \n",
              "3    5d3fbf443e582511aa1cc859   \n",
              "4    5d3fbfa03e582511aa1cc85a   \n",
              "..                        ...   \n",
              "364  5f943e0bbf181507836fa258   \n",
              "365  5f943e35bf181507836fa259   \n",
              "366  5f943dfabf181507836fa257   \n",
              "367  5f943d86bf181507836fa255   \n",
              "368  5f943c36bf181507836fa253   \n",
              "\n",
              "                                                  TEXT  SEQ_START  SEQ_END  \\\n",
              "0    The European Commission of Human Rights sittin...        182      297   \n",
              "1    Having regard to Article 25 of the Convention ...        917     1023   \n",
              "2    Having regard to the application introduced on...       1027     1179   \n",
              "3                                    Having regard to:       1181     1198   \n",
              "4    reports provided for in Rule 47 of the Rules o...       1208     1284   \n",
              "..                                                 ...        ...      ...   \n",
              "364  I refer once more to my dissenting opinion ann...      74512    75024   \n",
              "365  I consider too that in the present case Mr Ahm...      75025    75561   \n",
              "366  In these accusations and in his conviction the...      75562    75916   \n",
              "367  Article 27 of the Convention (art. 27) require...      75917    76264   \n",
              "368  (see the Guzzardi v. Italy judgment of 6 Novem...      76036    76125   \n",
              "\n",
              "                                               CONTEXT  \n",
              "0                                                       \n",
              "1    The European Commission of Human Rights sittin...  \n",
              "2    The European Commission of Human Rights sittin...  \n",
              "3    The European Commission of Human Rights sittin...  \n",
              "4    The European Commission of Human Rights sittin...  \n",
              "..                                                 ...  \n",
              "364  For these reasons I find that there has been a...  \n",
              "365   In its report referred to in paragraph 4 of t...  \n",
              "366  that the Court cannot deal with the merits of ...  \n",
              "367  that the Court cannot deal with the merits of ...  \n",
              "368  that the Court cannot deal with the merits of ...  \n",
              "\n",
              "[10456 rows x 5 columns]"
            ],
            "text/html": [
              "\n",
              "  <div id=\"df-5c547507-e3b0-40c7-b427-bc5ed0846ceb\">\n",
              "    <div class=\"colab-df-container\">\n",
              "      <div>\n",
              "<style scoped>\n",
              "    .dataframe tbody tr th:only-of-type {\n",
              "        vertical-align: middle;\n",
              "    }\n",
              "\n",
              "    .dataframe tbody tr th {\n",
              "        vertical-align: top;\n",
              "    }\n",
              "\n",
              "    .dataframe thead th {\n",
              "        text-align: right;\n",
              "    }\n",
              "</style>\n",
              "<table border=\"1\" class=\"dataframe\">\n",
              "  <thead>\n",
              "    <tr style=\"text-align: right;\">\n",
              "      <th></th>\n",
              "      <th>ID</th>\n",
              "      <th>TEXT</th>\n",
              "      <th>SEQ_START</th>\n",
              "      <th>SEQ_END</th>\n",
              "      <th>CONTEXT</th>\n",
              "    </tr>\n",
              "  </thead>\n",
              "  <tbody>\n",
              "    <tr>\n",
              "      <th>0</th>\n",
              "      <td>5d3fbf383e582511aa1cc856</td>\n",
              "      <td>The European Commission of Human Rights sittin...</td>\n",
              "      <td>182</td>\n",
              "      <td>297</td>\n",
              "      <td></td>\n",
              "    </tr>\n",
              "    <tr>\n",
              "      <th>1</th>\n",
              "      <td>5d3fbf3d3e582511aa1cc857</td>\n",
              "      <td>Having regard to Article 25 of the Convention ...</td>\n",
              "      <td>917</td>\n",
              "      <td>1023</td>\n",
              "      <td>The European Commission of Human Rights sittin...</td>\n",
              "    </tr>\n",
              "    <tr>\n",
              "      <th>2</th>\n",
              "      <td>5d3fbf413e582511aa1cc858</td>\n",
              "      <td>Having regard to the application introduced on...</td>\n",
              "      <td>1027</td>\n",
              "      <td>1179</td>\n",
              "      <td>The European Commission of Human Rights sittin...</td>\n",
              "    </tr>\n",
              "    <tr>\n",
              "      <th>3</th>\n",
              "      <td>5d3fbf443e582511aa1cc859</td>\n",
              "      <td>Having regard to:</td>\n",
              "      <td>1181</td>\n",
              "      <td>1198</td>\n",
              "      <td>The European Commission of Human Rights sittin...</td>\n",
              "    </tr>\n",
              "    <tr>\n",
              "      <th>4</th>\n",
              "      <td>5d3fbfa03e582511aa1cc85a</td>\n",
              "      <td>reports provided for in Rule 47 of the Rules o...</td>\n",
              "      <td>1208</td>\n",
              "      <td>1284</td>\n",
              "      <td>The European Commission of Human Rights sittin...</td>\n",
              "    </tr>\n",
              "    <tr>\n",
              "      <th>...</th>\n",
              "      <td>...</td>\n",
              "      <td>...</td>\n",
              "      <td>...</td>\n",
              "      <td>...</td>\n",
              "      <td>...</td>\n",
              "    </tr>\n",
              "    <tr>\n",
              "      <th>364</th>\n",
              "      <td>5f943e0bbf181507836fa258</td>\n",
              "      <td>I refer once more to my dissenting opinion ann...</td>\n",
              "      <td>74512</td>\n",
              "      <td>75024</td>\n",
              "      <td>For these reasons I find that there has been a...</td>\n",
              "    </tr>\n",
              "    <tr>\n",
              "      <th>365</th>\n",
              "      <td>5f943e35bf181507836fa259</td>\n",
              "      <td>I consider too that in the present case Mr Ahm...</td>\n",
              "      <td>75025</td>\n",
              "      <td>75561</td>\n",
              "      <td>In its report referred to in paragraph 4 of t...</td>\n",
              "    </tr>\n",
              "    <tr>\n",
              "      <th>366</th>\n",
              "      <td>5f943dfabf181507836fa257</td>\n",
              "      <td>In these accusations and in his conviction the...</td>\n",
              "      <td>75562</td>\n",
              "      <td>75916</td>\n",
              "      <td>that the Court cannot deal with the merits of ...</td>\n",
              "    </tr>\n",
              "    <tr>\n",
              "      <th>367</th>\n",
              "      <td>5f943d86bf181507836fa255</td>\n",
              "      <td>Article 27 of the Convention (art. 27) require...</td>\n",
              "      <td>75917</td>\n",
              "      <td>76264</td>\n",
              "      <td>that the Court cannot deal with the merits of ...</td>\n",
              "    </tr>\n",
              "    <tr>\n",
              "      <th>368</th>\n",
              "      <td>5f943c36bf181507836fa253</td>\n",
              "      <td>(see the Guzzardi v. Italy judgment of 6 Novem...</td>\n",
              "      <td>76036</td>\n",
              "      <td>76125</td>\n",
              "      <td>that the Court cannot deal with the merits of ...</td>\n",
              "    </tr>\n",
              "  </tbody>\n",
              "</table>\n",
              "<p>10456 rows × 5 columns</p>\n",
              "</div>\n",
              "      <button class=\"colab-df-convert\" onclick=\"convertToInteractive('df-5c547507-e3b0-40c7-b427-bc5ed0846ceb')\"\n",
              "              title=\"Convert this dataframe to an interactive table.\"\n",
              "              style=\"display:none;\">\n",
              "        \n",
              "  <svg xmlns=\"http://www.w3.org/2000/svg\" height=\"24px\"viewBox=\"0 0 24 24\"\n",
              "       width=\"24px\">\n",
              "    <path d=\"M0 0h24v24H0V0z\" fill=\"none\"/>\n",
              "    <path d=\"M18.56 5.44l.94 2.06.94-2.06 2.06-.94-2.06-.94-.94-2.06-.94 2.06-2.06.94zm-11 1L8.5 8.5l.94-2.06 2.06-.94-2.06-.94L8.5 2.5l-.94 2.06-2.06.94zm10 10l.94 2.06.94-2.06 2.06-.94-2.06-.94-.94-2.06-.94 2.06-2.06.94z\"/><path d=\"M17.41 7.96l-1.37-1.37c-.4-.4-.92-.59-1.43-.59-.52 0-1.04.2-1.43.59L10.3 9.45l-7.72 7.72c-.78.78-.78 2.05 0 2.83L4 21.41c.39.39.9.59 1.41.59.51 0 1.02-.2 1.41-.59l7.78-7.78 2.81-2.81c.8-.78.8-2.07 0-2.86zM5.41 20L4 18.59l7.72-7.72 1.47 1.35L5.41 20z\"/>\n",
              "  </svg>\n",
              "      </button>\n",
              "      \n",
              "  <style>\n",
              "    .colab-df-container {\n",
              "      display:flex;\n",
              "      flex-wrap:wrap;\n",
              "      gap: 12px;\n",
              "    }\n",
              "\n",
              "    .colab-df-convert {\n",
              "      background-color: #E8F0FE;\n",
              "      border: none;\n",
              "      border-radius: 50%;\n",
              "      cursor: pointer;\n",
              "      display: none;\n",
              "      fill: #1967D2;\n",
              "      height: 32px;\n",
              "      padding: 0 0 0 0;\n",
              "      width: 32px;\n",
              "    }\n",
              "\n",
              "    .colab-df-convert:hover {\n",
              "      background-color: #E2EBFA;\n",
              "      box-shadow: 0px 1px 2px rgba(60, 64, 67, 0.3), 0px 1px 3px 1px rgba(60, 64, 67, 0.15);\n",
              "      fill: #174EA6;\n",
              "    }\n",
              "\n",
              "    [theme=dark] .colab-df-convert {\n",
              "      background-color: #3B4455;\n",
              "      fill: #D2E3FC;\n",
              "    }\n",
              "\n",
              "    [theme=dark] .colab-df-convert:hover {\n",
              "      background-color: #434B5C;\n",
              "      box-shadow: 0px 1px 3px 1px rgba(0, 0, 0, 0.15);\n",
              "      filter: drop-shadow(0px 1px 2px rgba(0, 0, 0, 0.3));\n",
              "      fill: #FFFFFF;\n",
              "    }\n",
              "  </style>\n",
              "\n",
              "      <script>\n",
              "        const buttonEl =\n",
              "          document.querySelector('#df-5c547507-e3b0-40c7-b427-bc5ed0846ceb button.colab-df-convert');\n",
              "        buttonEl.style.display =\n",
              "          google.colab.kernel.accessAllowed ? 'block' : 'none';\n",
              "\n",
              "        async function convertToInteractive(key) {\n",
              "          const element = document.querySelector('#df-5c547507-e3b0-40c7-b427-bc5ed0846ceb');\n",
              "          const dataTable =\n",
              "            await google.colab.kernel.invokeFunction('convertToInteractive',\n",
              "                                                     [key], {});\n",
              "          if (!dataTable) return;\n",
              "\n",
              "          const docLinkHtml = 'Like what you see? Visit the ' +\n",
              "            '<a target=\"_blank\" href=https://colab.research.google.com/notebooks/data_table.ipynb>data table notebook</a>'\n",
              "            + ' to learn more about interactive tables.';\n",
              "          element.innerHTML = '';\n",
              "          dataTable['output_type'] = 'display_data';\n",
              "          await google.colab.output.renderOutput(dataTable, element);\n",
              "          const docLink = document.createElement('div');\n",
              "          docLink.innerHTML = docLinkHtml;\n",
              "          element.appendChild(docLink);\n",
              "        }\n",
              "      </script>\n",
              "    </div>\n",
              "  </div>\n",
              "  "
            ]
          },
          "metadata": {},
          "execution_count": 56
        }
      ],
      "source": [
        "dfs"
      ]
    },
    {
      "cell_type": "code",
      "execution_count": null,
      "metadata": {
        "id": "W6Wcx34TP7Ux"
      },
      "outputs": [],
      "source": [
        "dfs = dfs.reset_index(drop=True)"
      ]
    },
    {
      "cell_type": "code",
      "execution_count": null,
      "metadata": {
        "id": "0ORSVTARSNtE"
      },
      "outputs": [],
      "source": [
        "dfs['IS_PREMISE'] = dfs.apply(lambda row: 1 if row.ID in premises else 0, axis=1)"
      ]
    },
    {
      "cell_type": "code",
      "execution_count": null,
      "metadata": {
        "id": "88DGTM7sSTsU"
      },
      "outputs": [],
      "source": [
        "dfs['IS_CONCLUSION'] = dfs.apply(lambda row: 1 if row.ID in conclusions else 0, axis=1)"
      ]
    },
    {
      "cell_type": "code",
      "execution_count": null,
      "metadata": {
        "id": "eAs2XyJ-_lgs"
      },
      "outputs": [],
      "source": [
        "dfs['LABEL'] = dfs.apply(lambda row: 1 if row.IS_PREMISE == 1 or row.IS_CONCLUSION ==1 else 0, axis=1)"
      ]
    },
    {
      "cell_type": "code",
      "execution_count": null,
      "metadata": {
        "colab": {
          "base_uri": "https://localhost:8080/",
          "height": 424
        },
        "id": "rqpGUlEPOUN_",
        "outputId": "ba70975d-9a45-4d41-98eb-654979c37170"
      },
      "outputs": [
        {
          "output_type": "execute_result",
          "data": {
            "text/plain": [
              "                             ID  \\\n",
              "0      5d3fbf383e582511aa1cc856   \n",
              "1      5d3fbf3d3e582511aa1cc857   \n",
              "2      5d3fbf413e582511aa1cc858   \n",
              "3      5d3fbf443e582511aa1cc859   \n",
              "4      5d3fbfa03e582511aa1cc85a   \n",
              "...                         ...   \n",
              "10451  5f943e0bbf181507836fa258   \n",
              "10452  5f943e35bf181507836fa259   \n",
              "10453  5f943dfabf181507836fa257   \n",
              "10454  5f943d86bf181507836fa255   \n",
              "10455  5f943c36bf181507836fa253   \n",
              "\n",
              "                                                    TEXT  SEQ_START  SEQ_END  \\\n",
              "0      The European Commission of Human Rights sittin...        182      297   \n",
              "1      Having regard to Article 25 of the Convention ...        917     1023   \n",
              "2      Having regard to the application introduced on...       1027     1179   \n",
              "3                                      Having regard to:       1181     1198   \n",
              "4      reports provided for in Rule 47 of the Rules o...       1208     1284   \n",
              "...                                                  ...        ...      ...   \n",
              "10451  I refer once more to my dissenting opinion ann...      74512    75024   \n",
              "10452  I consider too that in the present case Mr Ahm...      75025    75561   \n",
              "10453  In these accusations and in his conviction the...      75562    75916   \n",
              "10454  Article 27 of the Convention (art. 27) require...      75917    76264   \n",
              "10455  (see the Guzzardi v. Italy judgment of 6 Novem...      76036    76125   \n",
              "\n",
              "                                                 CONTEXT  IS_PREMISE  \\\n",
              "0                                                                  0   \n",
              "1      The European Commission of Human Rights sittin...           0   \n",
              "2      The European Commission of Human Rights sittin...           0   \n",
              "3      The European Commission of Human Rights sittin...           0   \n",
              "4      The European Commission of Human Rights sittin...           0   \n",
              "...                                                  ...         ...   \n",
              "10451  For these reasons I find that there has been a...           0   \n",
              "10452   In its report referred to in paragraph 4 of t...           0   \n",
              "10453  that the Court cannot deal with the merits of ...           0   \n",
              "10454  that the Court cannot deal with the merits of ...           1   \n",
              "10455  that the Court cannot deal with the merits of ...           1   \n",
              "\n",
              "       IS_CONCLUSION  LABEL  \n",
              "0                  0      0  \n",
              "1                  0      0  \n",
              "2                  0      0  \n",
              "3                  0      0  \n",
              "4                  0      0  \n",
              "...              ...    ...  \n",
              "10451              0      0  \n",
              "10452              0      0  \n",
              "10453              0      0  \n",
              "10454              0      1  \n",
              "10455              0      1  \n",
              "\n",
              "[10456 rows x 8 columns]"
            ],
            "text/html": [
              "\n",
              "  <div id=\"df-72a5e8be-6bcd-4212-b461-7f7e488160ee\">\n",
              "    <div class=\"colab-df-container\">\n",
              "      <div>\n",
              "<style scoped>\n",
              "    .dataframe tbody tr th:only-of-type {\n",
              "        vertical-align: middle;\n",
              "    }\n",
              "\n",
              "    .dataframe tbody tr th {\n",
              "        vertical-align: top;\n",
              "    }\n",
              "\n",
              "    .dataframe thead th {\n",
              "        text-align: right;\n",
              "    }\n",
              "</style>\n",
              "<table border=\"1\" class=\"dataframe\">\n",
              "  <thead>\n",
              "    <tr style=\"text-align: right;\">\n",
              "      <th></th>\n",
              "      <th>ID</th>\n",
              "      <th>TEXT</th>\n",
              "      <th>SEQ_START</th>\n",
              "      <th>SEQ_END</th>\n",
              "      <th>CONTEXT</th>\n",
              "      <th>IS_PREMISE</th>\n",
              "      <th>IS_CONCLUSION</th>\n",
              "      <th>LABEL</th>\n",
              "    </tr>\n",
              "  </thead>\n",
              "  <tbody>\n",
              "    <tr>\n",
              "      <th>0</th>\n",
              "      <td>5d3fbf383e582511aa1cc856</td>\n",
              "      <td>The European Commission of Human Rights sittin...</td>\n",
              "      <td>182</td>\n",
              "      <td>297</td>\n",
              "      <td></td>\n",
              "      <td>0</td>\n",
              "      <td>0</td>\n",
              "      <td>0</td>\n",
              "    </tr>\n",
              "    <tr>\n",
              "      <th>1</th>\n",
              "      <td>5d3fbf3d3e582511aa1cc857</td>\n",
              "      <td>Having regard to Article 25 of the Convention ...</td>\n",
              "      <td>917</td>\n",
              "      <td>1023</td>\n",
              "      <td>The European Commission of Human Rights sittin...</td>\n",
              "      <td>0</td>\n",
              "      <td>0</td>\n",
              "      <td>0</td>\n",
              "    </tr>\n",
              "    <tr>\n",
              "      <th>2</th>\n",
              "      <td>5d3fbf413e582511aa1cc858</td>\n",
              "      <td>Having regard to the application introduced on...</td>\n",
              "      <td>1027</td>\n",
              "      <td>1179</td>\n",
              "      <td>The European Commission of Human Rights sittin...</td>\n",
              "      <td>0</td>\n",
              "      <td>0</td>\n",
              "      <td>0</td>\n",
              "    </tr>\n",
              "    <tr>\n",
              "      <th>3</th>\n",
              "      <td>5d3fbf443e582511aa1cc859</td>\n",
              "      <td>Having regard to:</td>\n",
              "      <td>1181</td>\n",
              "      <td>1198</td>\n",
              "      <td>The European Commission of Human Rights sittin...</td>\n",
              "      <td>0</td>\n",
              "      <td>0</td>\n",
              "      <td>0</td>\n",
              "    </tr>\n",
              "    <tr>\n",
              "      <th>4</th>\n",
              "      <td>5d3fbfa03e582511aa1cc85a</td>\n",
              "      <td>reports provided for in Rule 47 of the Rules o...</td>\n",
              "      <td>1208</td>\n",
              "      <td>1284</td>\n",
              "      <td>The European Commission of Human Rights sittin...</td>\n",
              "      <td>0</td>\n",
              "      <td>0</td>\n",
              "      <td>0</td>\n",
              "    </tr>\n",
              "    <tr>\n",
              "      <th>...</th>\n",
              "      <td>...</td>\n",
              "      <td>...</td>\n",
              "      <td>...</td>\n",
              "      <td>...</td>\n",
              "      <td>...</td>\n",
              "      <td>...</td>\n",
              "      <td>...</td>\n",
              "      <td>...</td>\n",
              "    </tr>\n",
              "    <tr>\n",
              "      <th>10451</th>\n",
              "      <td>5f943e0bbf181507836fa258</td>\n",
              "      <td>I refer once more to my dissenting opinion ann...</td>\n",
              "      <td>74512</td>\n",
              "      <td>75024</td>\n",
              "      <td>For these reasons I find that there has been a...</td>\n",
              "      <td>0</td>\n",
              "      <td>0</td>\n",
              "      <td>0</td>\n",
              "    </tr>\n",
              "    <tr>\n",
              "      <th>10452</th>\n",
              "      <td>5f943e35bf181507836fa259</td>\n",
              "      <td>I consider too that in the present case Mr Ahm...</td>\n",
              "      <td>75025</td>\n",
              "      <td>75561</td>\n",
              "      <td>In its report referred to in paragraph 4 of t...</td>\n",
              "      <td>0</td>\n",
              "      <td>0</td>\n",
              "      <td>0</td>\n",
              "    </tr>\n",
              "    <tr>\n",
              "      <th>10453</th>\n",
              "      <td>5f943dfabf181507836fa257</td>\n",
              "      <td>In these accusations and in his conviction the...</td>\n",
              "      <td>75562</td>\n",
              "      <td>75916</td>\n",
              "      <td>that the Court cannot deal with the merits of ...</td>\n",
              "      <td>0</td>\n",
              "      <td>0</td>\n",
              "      <td>0</td>\n",
              "    </tr>\n",
              "    <tr>\n",
              "      <th>10454</th>\n",
              "      <td>5f943d86bf181507836fa255</td>\n",
              "      <td>Article 27 of the Convention (art. 27) require...</td>\n",
              "      <td>75917</td>\n",
              "      <td>76264</td>\n",
              "      <td>that the Court cannot deal with the merits of ...</td>\n",
              "      <td>1</td>\n",
              "      <td>0</td>\n",
              "      <td>1</td>\n",
              "    </tr>\n",
              "    <tr>\n",
              "      <th>10455</th>\n",
              "      <td>5f943c36bf181507836fa253</td>\n",
              "      <td>(see the Guzzardi v. Italy judgment of 6 Novem...</td>\n",
              "      <td>76036</td>\n",
              "      <td>76125</td>\n",
              "      <td>that the Court cannot deal with the merits of ...</td>\n",
              "      <td>1</td>\n",
              "      <td>0</td>\n",
              "      <td>1</td>\n",
              "    </tr>\n",
              "  </tbody>\n",
              "</table>\n",
              "<p>10456 rows × 8 columns</p>\n",
              "</div>\n",
              "      <button class=\"colab-df-convert\" onclick=\"convertToInteractive('df-72a5e8be-6bcd-4212-b461-7f7e488160ee')\"\n",
              "              title=\"Convert this dataframe to an interactive table.\"\n",
              "              style=\"display:none;\">\n",
              "        \n",
              "  <svg xmlns=\"http://www.w3.org/2000/svg\" height=\"24px\"viewBox=\"0 0 24 24\"\n",
              "       width=\"24px\">\n",
              "    <path d=\"M0 0h24v24H0V0z\" fill=\"none\"/>\n",
              "    <path d=\"M18.56 5.44l.94 2.06.94-2.06 2.06-.94-2.06-.94-.94-2.06-.94 2.06-2.06.94zm-11 1L8.5 8.5l.94-2.06 2.06-.94-2.06-.94L8.5 2.5l-.94 2.06-2.06.94zm10 10l.94 2.06.94-2.06 2.06-.94-2.06-.94-.94-2.06-.94 2.06-2.06.94z\"/><path d=\"M17.41 7.96l-1.37-1.37c-.4-.4-.92-.59-1.43-.59-.52 0-1.04.2-1.43.59L10.3 9.45l-7.72 7.72c-.78.78-.78 2.05 0 2.83L4 21.41c.39.39.9.59 1.41.59.51 0 1.02-.2 1.41-.59l7.78-7.78 2.81-2.81c.8-.78.8-2.07 0-2.86zM5.41 20L4 18.59l7.72-7.72 1.47 1.35L5.41 20z\"/>\n",
              "  </svg>\n",
              "      </button>\n",
              "      \n",
              "  <style>\n",
              "    .colab-df-container {\n",
              "      display:flex;\n",
              "      flex-wrap:wrap;\n",
              "      gap: 12px;\n",
              "    }\n",
              "\n",
              "    .colab-df-convert {\n",
              "      background-color: #E8F0FE;\n",
              "      border: none;\n",
              "      border-radius: 50%;\n",
              "      cursor: pointer;\n",
              "      display: none;\n",
              "      fill: #1967D2;\n",
              "      height: 32px;\n",
              "      padding: 0 0 0 0;\n",
              "      width: 32px;\n",
              "    }\n",
              "\n",
              "    .colab-df-convert:hover {\n",
              "      background-color: #E2EBFA;\n",
              "      box-shadow: 0px 1px 2px rgba(60, 64, 67, 0.3), 0px 1px 3px 1px rgba(60, 64, 67, 0.15);\n",
              "      fill: #174EA6;\n",
              "    }\n",
              "\n",
              "    [theme=dark] .colab-df-convert {\n",
              "      background-color: #3B4455;\n",
              "      fill: #D2E3FC;\n",
              "    }\n",
              "\n",
              "    [theme=dark] .colab-df-convert:hover {\n",
              "      background-color: #434B5C;\n",
              "      box-shadow: 0px 1px 3px 1px rgba(0, 0, 0, 0.15);\n",
              "      filter: drop-shadow(0px 1px 2px rgba(0, 0, 0, 0.3));\n",
              "      fill: #FFFFFF;\n",
              "    }\n",
              "  </style>\n",
              "\n",
              "      <script>\n",
              "        const buttonEl =\n",
              "          document.querySelector('#df-72a5e8be-6bcd-4212-b461-7f7e488160ee button.colab-df-convert');\n",
              "        buttonEl.style.display =\n",
              "          google.colab.kernel.accessAllowed ? 'block' : 'none';\n",
              "\n",
              "        async function convertToInteractive(key) {\n",
              "          const element = document.querySelector('#df-72a5e8be-6bcd-4212-b461-7f7e488160ee');\n",
              "          const dataTable =\n",
              "            await google.colab.kernel.invokeFunction('convertToInteractive',\n",
              "                                                     [key], {});\n",
              "          if (!dataTable) return;\n",
              "\n",
              "          const docLinkHtml = 'Like what you see? Visit the ' +\n",
              "            '<a target=\"_blank\" href=https://colab.research.google.com/notebooks/data_table.ipynb>data table notebook</a>'\n",
              "            + ' to learn more about interactive tables.';\n",
              "          element.innerHTML = '';\n",
              "          dataTable['output_type'] = 'display_data';\n",
              "          await google.colab.output.renderOutput(dataTable, element);\n",
              "          const docLink = document.createElement('div');\n",
              "          docLink.innerHTML = docLinkHtml;\n",
              "          element.appendChild(docLink);\n",
              "        }\n",
              "      </script>\n",
              "    </div>\n",
              "  </div>\n",
              "  "
            ]
          },
          "metadata": {},
          "execution_count": 61
        }
      ],
      "source": [
        "dfs"
      ]
    },
    {
      "cell_type": "code",
      "execution_count": null,
      "metadata": {
        "id": "3LM656mNAX_v"
      },
      "outputs": [],
      "source": [
        "import sklearn.utils\n",
        "\n",
        "dfs_train = dfs[dfs.apply(lambda row: row.ID not in test_ids, axis=1)]\n",
        "dfs_test = dfs[dfs[\"ID\"].isin(test_ids)]\n",
        "dfs_test = sklearn.utils.shuffle(dfs_test)\n",
        "dfs_train = sklearn.utils.shuffle(dfs_train)\n",
        "\n",
        "df_test = dfs_test[['TEXT','LABEL', 'CONTEXT']]\n",
        "\n",
        "df_train = dfs_train[['TEXT','LABEL', 'CONTEXT']]"
      ]
    },
    {
      "cell_type": "markdown",
      "metadata": {
        "id": "zX8K3-Nr7tkA"
      },
      "source": []
    },
    {
      "cell_type": "code",
      "execution_count": null,
      "metadata": {
        "colab": {
          "base_uri": "https://localhost:8080/"
        },
        "id": "xvIIV50owWzq",
        "outputId": "d9b205b8-d8ef-4499-e104-6fcd8621a495"
      },
      "outputs": [
        {
          "output_type": "stream",
          "name": "stdout",
          "text": [
            "9410 1046\n"
          ]
        }
      ],
      "source": [
        "print(len(df_train), len(df_test))"
      ]
    },
    {
      "cell_type": "code",
      "execution_count": null,
      "metadata": {
        "colab": {
          "base_uri": "https://localhost:8080/",
          "height": 35
        },
        "id": "p-epl-HbGeSk",
        "outputId": "b10f65b1-3276-485e-936c-ed19934a3156"
      },
      "outputs": [
        {
          "output_type": "execute_result",
          "data": {
            "text/plain": [
              "'arr = df_train[[\"TEXT\",\"CONTEXT\"]]\\nfor i, r in arr.iterrows():\\n  if i<5:\\n    print([r[\"TEXT\"], r[\"CONTEXT\"]])'"
            ],
            "application/vnd.google.colaboratory.intrinsic+json": {
              "type": "string"
            }
          },
          "metadata": {},
          "execution_count": 64
        }
      ],
      "source": [
        "\"\"\"arr = df_train[[\"TEXT\",\"CONTEXT\"]]\n",
        "for i, r in arr.iterrows():\n",
        "  if i<5:\n",
        "    print([r[\"TEXT\"], r[\"CONTEXT\"]])\"\"\""
      ]
    },
    {
      "cell_type": "code",
      "execution_count": null,
      "metadata": {
        "id": "7IUzgmmEIaGK"
      },
      "outputs": [],
      "source": [
        "from keras import backend as K\n",
        "\n",
        "def recall_m(y_true, y_pred):\n",
        "    true_positives = K.sum(K.round(K.clip(y_true * y_pred, 0, 1)))\n",
        "    possible_positives = K.sum(K.round(K.clip(y_true, 0, 1)))\n",
        "    recall = true_positives / (possible_positives + K.epsilon())\n",
        "    return recall\n",
        "\n",
        "def precision_m(y_true, y_pred):\n",
        "    true_positives = K.sum(K.round(K.clip(y_true * y_pred, 0, 1)))\n",
        "    predicted_positives = K.sum(K.round(K.clip(y_pred, 0, 1)))\n",
        "    precision = true_positives / (predicted_positives + K.epsilon())\n",
        "    return precision\n",
        "\n",
        "def f1_m(y_true, y_pred):\n",
        "    precision = precision_m(y_true, y_pred)\n",
        "    recall = recall_m(y_true, y_pred)\n",
        "    return 2*((precision*recall)/(precision+recall+K.epsilon()))"
      ]
    },
    {
      "cell_type": "code",
      "execution_count": null,
      "metadata": {
        "id": "qxe0sIWQCRxj",
        "colab": {
          "base_uri": "https://localhost:8080/",
          "height": 113,
          "referenced_widgets": [
            "b3f9d81916444080adf376a6ae4c552c",
            "ba64cc324787495ab505578a8c6cc19c",
            "2489d23305644d50ba924ad0d4e41e56",
            "80f2a54d758f47d4a386053d9384b597",
            "acc2c9be789e4d49a3f7210ce893fb23",
            "b2c1cc82d0f34a59802c5f63f7b42352",
            "32e17930158b428e8aa7b7056e476a1b",
            "f6d5f47b4cca482ea687cade8ce6e2f0",
            "32682953063148ce9250b7f3a0deaad5",
            "73bef5e44da549a58e44425eb079f19f",
            "a70a20fa5ffd4d7d9f7da8fd650d25e9",
            "3876e39b2f94468fb76193faf5a5a816",
            "ffe606a9f2d145708f9491ee9883088b",
            "6d5e5a0a0d5c44f5a49742452cf03db8",
            "15526ac4c4dd43e5af03dc5358f04c30",
            "6850b70ceabe449db076c2e6a98a9ccc",
            "9c3c1548c0b54f9ea3aa4008bfa46a2e",
            "4c377f6b72a048788ba3d27cda4164d0",
            "293ac1ae261c423fa8ea164a928ca4a4",
            "8a5cab8b559d44bbbc13734a73d87a3d",
            "ee85c058e728484ab2634ab1dfa0c494",
            "6485b8570a99432bb45448d35dd3f6c0",
            "45ec28ceb84a4feda5a4d80044765b0d",
            "6a36afa44a274ebbb498623c86085bc0",
            "b1677758bdca45b7b64dc7fcef63bc41",
            "912cc3402c174cce913fdd1abc74d424",
            "071a1106508e475e9b70bf6fde01537e",
            "69ca269b7e5c4b3fa4360f431f270b15",
            "fd0aeb35522c41098daae17b83f2fbc2",
            "d4d3998d77dc4b7abf2c73856cb902d8",
            "93043106b2314c1a80538d6f9403337b",
            "65d52f7fa313492bac7384ca1f6619df",
            "46ea58843d594f16893ff8043876b2a0"
          ]
        },
        "outputId": "9ab11c4b-2ae3-4edf-e4f2-fb8b3f27b8f8"
      },
      "outputs": [
        {
          "output_type": "display_data",
          "data": {
            "text/plain": [
              "Downloading:   0%|          | 0.00/48.0 [00:00<?, ?B/s]"
            ],
            "application/vnd.jupyter.widget-view+json": {
              "version_major": 2,
              "version_minor": 0,
              "model_id": "b3f9d81916444080adf376a6ae4c552c"
            }
          },
          "metadata": {}
        },
        {
          "output_type": "display_data",
          "data": {
            "text/plain": [
              "Downloading:   0%|          | 0.00/1.00k [00:00<?, ?B/s]"
            ],
            "application/vnd.jupyter.widget-view+json": {
              "version_major": 2,
              "version_minor": 0,
              "model_id": "3876e39b2f94468fb76193faf5a5a816"
            }
          },
          "metadata": {}
        },
        {
          "output_type": "display_data",
          "data": {
            "text/plain": [
              "Downloading:   0%|          | 0.00/232k [00:00<?, ?B/s]"
            ],
            "application/vnd.jupyter.widget-view+json": {
              "version_major": 2,
              "version_minor": 0,
              "model_id": "45ec28ceb84a4feda5a4d80044765b0d"
            }
          },
          "metadata": {}
        }
      ],
      "source": [
        "tokenizer = AutoTokenizer.from_pretrained(\"nlpaueb/bert-base-uncased-echr\")"
      ]
    },
    {
      "cell_type": "code",
      "execution_count": null,
      "metadata": {
        "id": "BiSZkuyZCWV1"
      },
      "outputs": [],
      "source": [
        "def tokenize(sentences, tokenizer):\n",
        "    input_ids, input_masks, input_segments = [],[],[]\n",
        "    for i, row in sentences.iterrows():\n",
        "        sentence = [row[\"CONTEXT\"], row[\"TEXT\"]]\n",
        "        inputs = tokenizer.encode_plus(sentence, add_special_tokens=True, max_length=500, pad_to_max_length=True, \n",
        "                                             return_attention_mask=True, return_token_type_ids=True)\n",
        "        input_ids.append(inputs['input_ids'])\n",
        "        input_masks.append(inputs['attention_mask'])\n",
        "        input_segments.append(inputs['token_type_ids'])        \n",
        "        \n",
        "    return np.asarray(input_ids, dtype='int32'), np.asarray(input_masks, dtype='int32'), np.asarray(input_segments, dtype='int32')"
      ]
    },
    {
      "cell_type": "code",
      "execution_count": null,
      "metadata": {
        "colab": {
          "base_uri": "https://localhost:8080/",
          "height": 156,
          "referenced_widgets": [
            "2012ee9d9114400481fd723b18bfed0f",
            "6ee3eb7f5c87433cbd6872eeca6c8cae",
            "21341e573d1b4afcbead7c84fc6eaba1",
            "7ba35ec1214c4877819bf0258c167ecc",
            "ab621a7604d44e26a621eb8ed317f583",
            "510e5492bf174468b0e1b19258c724ee",
            "a6d7e3eebc9f46d7a98553f49d940dfe",
            "ee36c42a42d749af992b677157edd92a",
            "3c2c47a1f9784fa2966a4d2fb9b1c828",
            "989ab399c6fe4d7ca34d881d933549d4",
            "aa7d1d0aaf254e148f14b4a0863b9349"
          ]
        },
        "id": "TvLOIYDGDc95",
        "outputId": "4d9789bf-307a-41de-9139-1e43093b548e"
      },
      "outputs": [
        {
          "output_type": "display_data",
          "data": {
            "text/plain": [
              "Downloading:   0%|          | 0.00/536M [00:00<?, ?B/s]"
            ],
            "application/vnd.jupyter.widget-view+json": {
              "version_major": 2,
              "version_minor": 0,
              "model_id": "2012ee9d9114400481fd723b18bfed0f"
            }
          },
          "metadata": {}
        },
        {
          "output_type": "stream",
          "name": "stderr",
          "text": [
            "Some layers from the model checkpoint at nlpaueb/bert-base-uncased-echr were not used when initializing TFBertModel: ['mlm___cls', 'nsp___cls']\n",
            "- This IS expected if you are initializing TFBertModel from the checkpoint of a model trained on another task or with another architecture (e.g. initializing a BertForSequenceClassification model from a BertForPreTraining model).\n",
            "- This IS NOT expected if you are initializing TFBertModel from the checkpoint of a model that you expect to be exactly identical (initializing a BertForSequenceClassification model from a BertForSequenceClassification model).\n",
            "All the layers of TFBertModel were initialized from the model checkpoint at nlpaueb/bert-base-uncased-echr.\n",
            "If your task is similar to the task the model of the checkpoint was trained on, you can already use TFBertModel for predictions without further training.\n"
          ]
        }
      ],
      "source": [
        "transformer_model =  TFAutoModel.from_pretrained(\"nlpaueb/bert-base-uncased-echr\")\n",
        "\n",
        "input_ids_in = tf.keras.layers.Input(shape=(500,), name='input_token', dtype='int32')\n",
        "input_masks_in = tf.keras.layers.Input(shape=(500,), name='masked_token', dtype='int32') \n",
        "\n",
        "embedding_layer = transformer_model(input_ids_in, attention_mask=input_masks_in)[0]\n",
        "cls_token = embedding_layer[:,0,:]\n",
        "X = tf.keras.layers.BatchNormalization()(cls_token)\n",
        "X = tf.keras.layers.Dense(192, activation='relu')(X)\n",
        "X = tf.keras.layers.Dropout(0.2)(X)\n",
        "X = tf.keras.layers.Dense(1, activation='sigmoid')(X)\n",
        "model = tf.keras.Model(inputs=[input_ids_in, input_masks_in], outputs = X)\n",
        "\n",
        "for layer in model.layers[:3]:\n",
        "  layer.trainable = False"
      ]
    },
    {
      "cell_type": "code",
      "execution_count": null,
      "metadata": {
        "colab": {
          "base_uri": "https://localhost:8080/"
        },
        "id": "D8Caauc0DmJV",
        "outputId": "eb0b6f96-6c4b-4e9f-d6fe-eac53fe55e82"
      },
      "outputs": [
        {
          "output_type": "stream",
          "name": "stdout",
          "text": [
            "Model: \"model\"\n",
            "__________________________________________________________________________________________________\n",
            " Layer (type)                   Output Shape         Param #     Connected to                     \n",
            "==================================================================================================\n",
            " input_token (InputLayer)       [(None, 500)]        0           []                               \n",
            "                                                                                                  \n",
            " masked_token (InputLayer)      [(None, 500)]        0           []                               \n",
            "                                                                                                  \n",
            " tf_bert_model (TFBertModel)    TFBaseModelOutputWi  109482240   ['input_token[0][0]',            \n",
            "                                thPoolingAndCrossAt               'masked_token[0][0]']           \n",
            "                                tentions(last_hidde                                               \n",
            "                                n_state=(None, 500,                                               \n",
            "                                 768),                                                            \n",
            "                                 pooler_output=(Non                                               \n",
            "                                e, 768),                                                          \n",
            "                                 past_key_values=No                                               \n",
            "                                ne, hidden_states=N                                               \n",
            "                                one, attentions=Non                                               \n",
            "                                e, cross_attentions                                               \n",
            "                                =None)                                                            \n",
            "                                                                                                  \n",
            " tf.__operators__.getitem (Slic  (None, 768)         0           ['tf_bert_model[0][0]']          \n",
            " ingOpLambda)                                                                                     \n",
            "                                                                                                  \n",
            " batch_normalization (BatchNorm  (None, 768)         3072        ['tf.__operators__.getitem[0][0]'\n",
            " alization)                                                      ]                                \n",
            "                                                                                                  \n",
            " dense (Dense)                  (None, 192)          147648      ['batch_normalization[0][0]']    \n",
            "                                                                                                  \n",
            " dropout_37 (Dropout)           (None, 192)          0           ['dense[0][0]']                  \n",
            "                                                                                                  \n",
            " dense_1 (Dense)                (None, 1)            193         ['dropout_37[0][0]']             \n",
            "                                                                                                  \n",
            "==================================================================================================\n",
            "Total params: 109,633,153\n",
            "Trainable params: 149,377\n",
            "Non-trainable params: 109,483,776\n",
            "__________________________________________________________________________________________________\n"
          ]
        }
      ],
      "source": [
        "model.summary()"
      ]
    },
    {
      "cell_type": "code",
      "execution_count": null,
      "metadata": {
        "colab": {
          "base_uri": "https://localhost:8080/"
        },
        "id": "jUNC2qh6FvWi",
        "outputId": "3f30f9df-98dd-4e67-c35a-f724fcf2f9e1"
      },
      "outputs": [
        {
          "output_type": "stream",
          "name": "stderr",
          "text": [
            "Truncation was not explicitly activated but `max_length` is provided a specific value, please use `truncation=True` to explicitly truncate examples to max length. Defaulting to 'longest_first' truncation strategy. If you encode pairs of sequences (GLUE-style) with the tokenizer you can select this strategy more precisely by providing a specific strategy to `truncation`.\n",
            "/usr/local/lib/python3.8/dist-packages/transformers/tokenization_utils_base.py:2336: FutureWarning: The `pad_to_max_length` argument is deprecated and will be removed in a future version, use `padding=True` or `padding='longest'` to pad to the longest sequence in the batch, or use `padding='max_length'` to pad to a max length. In this case, you can give a specific length with `max_length` (e.g. `max_length=45`) or leave max_length to None to pad to the maximal input size of the model (e.g. 512 for Bert).\n",
            "  warnings.warn(\n"
          ]
        }
      ],
      "source": [
        "train_tokenized = tokenize(df_train[['TEXT','CONTEXT']],tokenizer)\n",
        "y_train = np.asarray(df_train['LABEL'])"
      ]
    },
    {
      "cell_type": "code",
      "execution_count": null,
      "metadata": {
        "id": "wsAQ2BxLGiL1"
      },
      "outputs": [],
      "source": [
        "optimizer = keras.optimizers.Adam(learning_rate=0.001)\n",
        "\n",
        "model.compile(optimizer=optimizer,loss=tf.keras.losses.BinaryCrossentropy(),metrics=['accuracy',f1_m,recall_m])\n"
      ]
    },
    {
      "cell_type": "code",
      "execution_count": null,
      "metadata": {
        "colab": {
          "base_uri": "https://localhost:8080/"
        },
        "id": "1fAFW-dRFmCE",
        "outputId": "028d025e-0928-4db5-e31f-1349300ae304"
      },
      "outputs": [
        {
          "output_type": "execute_result",
          "data": {
            "text/plain": [
              "array([[1, 1, 1, ..., 0, 0, 0],\n",
              "       [1, 1, 1, ..., 0, 0, 0],\n",
              "       [1, 1, 1, ..., 0, 0, 0],\n",
              "       ...,\n",
              "       [1, 1, 1, ..., 0, 0, 0],\n",
              "       [1, 1, 1, ..., 0, 0, 0],\n",
              "       [1, 1, 1, ..., 0, 0, 0]], dtype=int32)"
            ]
          },
          "metadata": {},
          "execution_count": 72
        }
      ],
      "source": [
        "train_tokenized[1]"
      ]
    },
    {
      "cell_type": "code",
      "execution_count": 73,
      "metadata": {
        "colab": {
          "base_uri": "https://localhost:8080/",
          "height": 0
        },
        "id": "TQ3hpPA7EVB8",
        "outputId": "2b8ed492-ce84-42d8-ed41-fee0300a92de"
      },
      "outputs": [
        {
          "output_type": "stream",
          "name": "stdout",
          "text": [
            "Epoch 1/10\n",
            "236/236 [==============================] - 441s 2s/step - loss: 0.3389 - accuracy: 0.8475 - f1_m: 0.6936 - recall_m: 0.7215 - val_loss: 0.2665 - val_accuracy: 0.8858 - val_f1_m: 0.7837 - val_recall_m: 0.8975\n",
            "Epoch 2/10\n",
            "236/236 [==============================] - 426s 2s/step - loss: 0.2525 - accuracy: 0.8832 - f1_m: 0.7662 - recall_m: 0.8033 - val_loss: 0.2233 - val_accuracy: 0.9006 - val_f1_m: 0.7951 - val_recall_m: 0.8429\n",
            "Epoch 3/10\n",
            "236/236 [==============================] - 425s 2s/step - loss: 0.2171 - accuracy: 0.9040 - f1_m: 0.8084 - recall_m: 0.8386 - val_loss: 0.2169 - val_accuracy: 0.9081 - val_f1_m: 0.8084 - val_recall_m: 0.8579\n",
            "Epoch 4/10\n",
            "236/236 [==============================] - 426s 2s/step - loss: 0.2078 - accuracy: 0.9099 - f1_m: 0.8197 - recall_m: 0.8557 - val_loss: 0.2033 - val_accuracy: 0.9176 - val_f1_m: 0.8307 - val_recall_m: 0.8974\n",
            "Epoch 5/10\n",
            "236/236 [==============================] - 426s 2s/step - loss: 0.1904 - accuracy: 0.9198 - f1_m: 0.8432 - recall_m: 0.8792 - val_loss: 0.1999 - val_accuracy: 0.9203 - val_f1_m: 0.8262 - val_recall_m: 0.8547\n",
            "Epoch 6/10\n",
            "236/236 [==============================] - 426s 2s/step - loss: 0.1773 - accuracy: 0.9256 - f1_m: 0.8511 - recall_m: 0.8826 - val_loss: 0.1878 - val_accuracy: 0.9235 - val_f1_m: 0.8353 - val_recall_m: 0.8653\n",
            "Epoch 7/10\n",
            "236/236 [==============================] - 425s 2s/step - loss: 0.1684 - accuracy: 0.9280 - f1_m: 0.8543 - recall_m: 0.8746 - val_loss: 0.1970 - val_accuracy: 0.9235 - val_f1_m: 0.8384 - val_recall_m: 0.8669\n",
            "Epoch 8/10\n",
            "236/236 [==============================] - 426s 2s/step - loss: 0.1576 - accuracy: 0.9333 - f1_m: 0.8686 - recall_m: 0.8971 - val_loss: 0.1977 - val_accuracy: 0.9240 - val_f1_m: 0.8390 - val_recall_m: 0.8868\n",
            "Epoch 9/10\n",
            "236/236 [==============================] - 426s 2s/step - loss: 0.1481 - accuracy: 0.9368 - f1_m: 0.8702 - recall_m: 0.8978 - val_loss: 0.1853 - val_accuracy: 0.9320 - val_f1_m: 0.8569 - val_recall_m: 0.8702\n",
            "Epoch 10/10\n",
            "236/236 [==============================] - 426s 2s/step - loss: 0.1485 - accuracy: 0.9400 - f1_m: 0.8778 - recall_m: 0.8997 - val_loss: 0.1873 - val_accuracy: 0.9283 - val_f1_m: 0.8485 - val_recall_m: 0.8940\n"
          ]
        }
      ],
      "source": [
        "history = model.fit(x=[train_tokenized[0],train_tokenized[1]],y=y_train, validation_split=0.2,epochs=10)\n"
      ]
    },
    {
      "cell_type": "code",
      "execution_count": 74,
      "metadata": {
        "id": "Q_wB9QZrlWuu",
        "colab": {
          "base_uri": "https://localhost:8080/",
          "height": 295
        },
        "outputId": "47145589-82d7-43da-8c32-7d3c908492cb"
      },
      "outputs": [
        {
          "output_type": "display_data",
          "data": {
            "text/plain": [
              "<Figure size 432x288 with 1 Axes>"
            ],
            "image/png": "[encoded data removed]"
          },
          "metadata": {
            "needs_background": "light"
          }
        }
      ],
      "source": [
        "from matplotlib import pyplot as plt\n",
        "plt.plot(history.history['loss'])\n",
        "plt.plot(history.history['val_loss'])\n",
        "plt.title('model loss')\n",
        "plt.ylabel('loss')\n",
        "plt.xlabel('epoch')\n",
        "plt.legend(['train', 'val'], loc='upper left')\n",
        "plt.show()"
      ]
    },
    {
      "cell_type": "code",
      "execution_count": 75,
      "metadata": {
        "id": "ce9Y9qxtmW5E"
      },
      "outputs": [],
      "source": [
        "test_tokenized = tokenize(df_test[['TEXT',\"CONTEXT\"]],tokenizer)\n",
        "y_test = np.asarray(df_test['LABEL'])"
      ]
    },
    {
      "cell_type": "markdown",
      "metadata": {
        "id": "qeHJIjpsmstw"
      },
      "source": [
        "Evaluation\n"
      ]
    },
    {
      "cell_type": "code",
      "execution_count": null,
      "metadata": {
        "id": "IBD5XMK_o-py",
        "colab": {
          "base_uri": "https://localhost:8080/"
        },
        "outputId": "571b6d90-6bc1-4de2-d194-a2d1ca3f758f"
      },
      "outputs": [
        {
          "output_type": "stream",
          "name": "stdout",
          "text": [
            "12/17 [====================>.........] - ETA: 13s"
          ]
        }
      ],
      "source": [
        "from sklearn.metrics import classification_report\n",
        "\n",
        "y_pred = model.predict(x=[test_tokenized[0],test_tokenized[1]], batch_size=64, verbose=1)\n",
        "y_pred_bool = np.asarray([0 if i < 0.5 else 1 for i in y_pred ])\n",
        "\n",
        "print(classification_report(y_test, y_pred_bool))"
      ]
    },
    {
      "cell_type": "markdown",
      "metadata": {
        "id": "4Hxn3wrSV3AW"
      },
      "source": [
        "Hyperparameter Tuning Stage"
      ]
    },
    {
      "cell_type": "code",
      "execution_count": null,
      "metadata": {
        "id": "s0bx8PWNXPgx"
      },
      "outputs": [],
      "source": [
        "def build_model(hp):\n",
        "\n",
        "  transformer_model =  TFAutoModel.from_pretrained(\"nlpaueb/bert-base-uncased-echr\")\n",
        "\n",
        "  input_ids_in = tf.keras.layers.Input(shape=(500,), name='input_token', dtype='int32')\n",
        "  input_masks_in = tf.keras.layers.Input(shape=(500,), name='masked_token', dtype='int32') \n",
        "\n",
        "  embedding_layer = transformer_model(input_ids_in, attention_mask=input_masks_in)[0]\n",
        "  cls_token = embedding_layer[:,0,:]\n",
        "  X = tf.keras.layers.BatchNormalization()(cls_token)\n",
        "\n",
        "\n",
        "  hp_units = hp.Int('units', min_value=32, max_value=512, step=64)\n",
        "  \n",
        "  X = tf.keras.layers.Dense(units=hp_units,activation='relu')(X)\n",
        "\n",
        "  #hpdrop = hp.Float('units', min_value=0, max_value=0.3, step=0.1)\n",
        "  X = tf.keras.layers.Dropout(0.2)(X)\n",
        "  X = tf.keras.layers.Dense(1, activation='sigmoid')(X)\n",
        "  model = tf.keras.Model(inputs=[input_ids_in, input_masks_in], outputs = X)\n",
        "\n",
        "\n",
        "  \n",
        "\n",
        "  hp_learning_rate = hp.Choice('learning_rate', values=[5e-6,5e-5,5e-4,1e-4,1e-5]) #try momentums\n",
        "\n",
        "  optimizer = keras.optimizers.Adam(learning_rate=hp_learning_rate)\n",
        "\n",
        "  model.compile(optimizer=optimizer,loss=tf.keras.losses.BinaryCrossentropy(),metrics=['accuracy',f1_m,recall_m])\n",
        "\n",
        "\n",
        "\n",
        "  for layer in model.layers[:3]:\n",
        "    layer.trainable = False\n",
        "  return model"
      ]
    },
    {
      "cell_type": "code",
      "execution_count": null,
      "metadata": {
        "id": "eCvNXkqXW7k6"
      },
      "outputs": [],
      "source": [
        "!pip install keras_tuner\n",
        "import keras_tuner\n",
        "from tensorflow.keras import layers"
      ]
    },
    {
      "cell_type": "code",
      "execution_count": null,
      "metadata": {
        "id": "SPnIG0L36Lby"
      },
      "outputs": [],
      "source": [
        "tuner = keras_tuner.Hyperband(build_model,\n",
        "                     objective=keras_tuner.Objective('val_f1_m', direction='max'),\n",
        "                    \n",
        "                     overwrite=True,\n",
        "                     metrics=[f1_m,recall_m,'accuracy'])"
      ]
    },
    {
      "cell_type": "code",
      "execution_count": null,
      "metadata": {
        "id": "TQ-QlpfgWAh_"
      },
      "outputs": [],
      "source": [
        "tuner.search(x=[train_tokenized[0],train_tokenized[1]],y=y_train, validation_split=0.2) # display f1 as well\n",
        "best_model = tuner.get_best_models()[0]"
      ]
    },
    {
      "cell_type": "markdown",
      "metadata": {
        "id": "YpJXDUJsW2MM"
      },
      "source": [
        "LSTM arch\n"
      ]
    },
    {
      "cell_type": "code",
      "execution_count": null,
      "metadata": {
        "id": "RBA2i8xlpu-H"
      },
      "outputs": [],
      "source": []
    }
  ],
  "metadata": {
    "accelerator": "GPU",
    "colab": {
      "provenance": [],
      "machine_shape": "hm",
      "include_colab_link": true
    },
    "gpuClass": "standard",
    "kernelspec": {
      "display_name": "Python 3",
      "name": "python3"
    },
    "language_info": {
      "name": "python"
    },
    "widgets": {
      "application/vnd.jupyter.widget-state+json": {
        "b3f9d81916444080adf376a6ae4c552c": {
          "model_module": "@jupyter-widgets/controls",
          "model_name": "HBoxModel",
          "model_module_version": "1.5.0",
          "state": {
            "_dom_classes": [],
            "_model_module": "@jupyter-widgets/controls",
            "_model_module_version": "1.5.0",
            "_model_name": "HBoxModel",
            "_view_count": null,
            "_view_module": "@jupyter-widgets/controls",
            "_view_module_version": "1.5.0",
            "_view_name": "HBoxView",
            "box_style": "",
            "children": [
              "IPY_MODEL_ba64cc324787495ab505578a8c6cc19c",
              "IPY_MODEL_2489d23305644d50ba924ad0d4e41e56",
              "IPY_MODEL_80f2a54d758f47d4a386053d9384b597"
            ],
            "layout": "IPY_MODEL_acc2c9be789e4d49a3f7210ce893fb23"
          }
        },
        "ba64cc324787495ab505578a8c6cc19c": {
          "model_module": "@jupyter-widgets/controls",
          "model_name": "HTMLModel",
          "model_module_version": "1.5.0",
          "state": {
            "_dom_classes": [],
            "_model_module": "@jupyter-widgets/controls",
            "_model_module_version": "1.5.0",
            "_model_name": "HTMLModel",
            "_view_count": null,
            "_view_module": "@jupyter-widgets/controls",
            "_view_module_version": "1.5.0",
            "_view_name": "HTMLView",
            "description": "",
            "description_tooltip": null,
            "layout": "IPY_MODEL_b2c1cc82d0f34a59802c5f63f7b42352",
            "placeholder": "​",
            "style": "IPY_MODEL_32e17930158b428e8aa7b7056e476a1b",
            "value": "Downloading: 100%"
          }
        },
        "2489d23305644d50ba924ad0d4e41e56": {
          "model_module": "@jupyter-widgets/controls",
          "model_name": "FloatProgressModel",
          "model_module_version": "1.5.0",
          "state": {
            "_dom_classes": [],
            "_model_module": "@jupyter-widgets/controls",
            "_model_module_version": "1.5.0",
            "_model_name": "FloatProgressModel",
            "_view_count": null,
            "_view_module": "@jupyter-widgets/controls",
            "_view_module_version": "1.5.0",
            "_view_name": "ProgressView",
            "bar_style": "success",
            "description": "",
            "description_tooltip": null,
            "layout": "IPY_MODEL_f6d5f47b4cca482ea687cade8ce6e2f0",
            "max": 48,
            "min": 0,
            "orientation": "horizontal",
            "style": "IPY_MODEL_32682953063148ce9250b7f3a0deaad5",
            "value": 48
          }
        },
        "80f2a54d758f47d4a386053d9384b597": {
          "model_module": "@jupyter-widgets/controls",
          "model_name": "HTMLModel",
          "model_module_version": "1.5.0",
          "state": {
            "_dom_classes": [],
            "_model_module": "@jupyter-widgets/controls",
            "_model_module_version": "1.5.0",
            "_model_name": "HTMLModel",
            "_view_count": null,
            "_view_module": "@jupyter-widgets/controls",
            "_view_module_version": "1.5.0",
            "_view_name": "HTMLView",
            "description": "",
            "description_tooltip": null,
            "layout": "IPY_MODEL_73bef5e44da549a58e44425eb079f19f",
            "placeholder": "​",
            "style": "IPY_MODEL_a70a20fa5ffd4d7d9f7da8fd650d25e9",
            "value": " 48.0/48.0 [00:00&lt;00:00, 2.00kB/s]"
          }
        },
        "acc2c9be789e4d49a3f7210ce893fb23": {
          "model_module": "@jupyter-widgets/base",
          "model_name": "LayoutModel",
          "model_module_version": "1.2.0",
          "state": {
            "_model_module": "@jupyter-widgets/base",
            "_model_module_version": "1.2.0",
            "_model_name": "LayoutModel",
            "_view_count": null,
            "_view_module": "@jupyter-widgets/base",
            "_view_module_version": "1.2.0",
            "_view_name": "LayoutView",
            "align_content": null,
            "align_items": null,
            "align_self": null,
            "border": null,
            "bottom": null,
            "display": null,
            "flex": null,
            "flex_flow": null,
            "grid_area": null,
            "grid_auto_columns": null,
            "grid_auto_flow": null,
            "grid_auto_rows": null,
            "grid_column": null,
            "grid_gap": null,
            "grid_row": null,
            "grid_template_areas": null,
            "grid_template_columns": null,
            "grid_template_rows": null,
            "height": null,
            "justify_content": null,
            "justify_items": null,
            "left": null,
            "margin": null,
            "max_height": null,
            "max_width": null,
            "min_height": null,
            "min_width": null,
            "object_fit": null,
            "object_position": null,
            "order": null,
            "overflow": null,
            "overflow_x": null,
            "overflow_y": null,
            "padding": null,
            "right": null,
            "top": null,
            "visibility": null,
            "width": null
          }
        },
        "b2c1cc82d0f34a59802c5f63f7b42352": {
          "model_module": "@jupyter-widgets/base",
          "model_name": "LayoutModel",
          "model_module_version": "1.2.0",
          "state": {
            "_model_module": "@jupyter-widgets/base",
            "_model_module_version": "1.2.0",
            "_model_name": "LayoutModel",
            "_view_count": null,
            "_view_module": "@jupyter-widgets/base",
            "_view_module_version": "1.2.0",
            "_view_name": "LayoutView",
            "align_content": null,
            "align_items": null,
            "align_self": null,
            "border": null,
            "bottom": null,
            "display": null,
            "flex": null,
            "flex_flow": null,
            "grid_area": null,
            "grid_auto_columns": null,
            "grid_auto_flow": null,
            "grid_auto_rows": null,
            "grid_column": null,
            "grid_gap": null,
            "grid_row": null,
            "grid_template_areas": null,
            "grid_template_columns": null,
            "grid_template_rows": null,
            "height": null,
            "justify_content": null,
            "justify_items": null,
            "left": null,
            "margin": null,
            "max_height": null,
            "max_width": null,
            "min_height": null,
            "min_width": null,
            "object_fit": null,
            "object_position": null,
            "order": null,
            "overflow": null,
            "overflow_x": null,
            "overflow_y": null,
            "padding": null,
            "right": null,
            "top": null,
            "visibility": null,
            "width": null
          }
        },
        "32e17930158b428e8aa7b7056e476a1b": {
          "model_module": "@jupyter-widgets/controls",
          "model_name": "DescriptionStyleModel",
          "model_module_version": "1.5.0",
          "state": {
            "_model_module": "@jupyter-widgets/controls",
            "_model_module_version": "1.5.0",
            "_model_name": "DescriptionStyleModel",
            "_view_count": null,
            "_view_module": "@jupyter-widgets/base",
            "_view_module_version": "1.2.0",
            "_view_name": "StyleView",
            "description_width": ""
          }
        },
        "f6d5f47b4cca482ea687cade8ce6e2f0": {
          "model_module": "@jupyter-widgets/base",
          "model_name": "LayoutModel",
          "model_module_version": "1.2.0",
          "state": {
            "_model_module": "@jupyter-widgets/base",
            "_model_module_version": "1.2.0",
            "_model_name": "LayoutModel",
            "_view_count": null,
            "_view_module": "@jupyter-widgets/base",
            "_view_module_version": "1.2.0",
            "_view_name": "LayoutView",
            "align_content": null,
            "align_items": null,
            "align_self": null,
            "border": null,
            "bottom": null,
            "display": null,
            "flex": null,
            "flex_flow": null,
            "grid_area": null,
            "grid_auto_columns": null,
            "grid_auto_flow": null,
            "grid_auto_rows": null,
            "grid_column": null,
            "grid_gap": null,
            "grid_row": null,
            "grid_template_areas": null,
            "grid_template_columns": null,
            "grid_template_rows": null,
            "height": null,
            "justify_content": null,
            "justify_items": null,
            "left": null,
            "margin": null,
            "max_height": null,
            "max_width": null,
            "min_height": null,
            "min_width": null,
            "object_fit": null,
            "object_position": null,
            "order": null,
            "overflow": null,
            "overflow_x": null,
            "overflow_y": null,
            "padding": null,
            "right": null,
            "top": null,
            "visibility": null,
            "width": null
          }
        },
        "32682953063148ce9250b7f3a0deaad5": {
          "model_module": "@jupyter-widgets/controls",
          "model_name": "ProgressStyleModel",
          "model_module_version": "1.5.0",
          "state": {
            "_model_module": "@jupyter-widgets/controls",
            "_model_module_version": "1.5.0",
            "_model_name": "ProgressStyleModel",
            "_view_count": null,
            "_view_module": "@jupyter-widgets/base",
            "_view_module_version": "1.2.0",
            "_view_name": "StyleView",
            "bar_color": null,
            "description_width": ""
          }
        },
        "73bef5e44da549a58e44425eb079f19f": {
          "model_module": "@jupyter-widgets/base",
          "model_name": "LayoutModel",
          "model_module_version": "1.2.0",
          "state": {
            "_model_module": "@jupyter-widgets/base",
            "_model_module_version": "1.2.0",
            "_model_name": "LayoutModel",
            "_view_count": null,
            "_view_module": "@jupyter-widgets/base",
            "_view_module_version": "1.2.0",
            "_view_name": "LayoutView",
            "align_content": null,
            "align_items": null,
            "align_self": null,
            "border": null,
            "bottom": null,
            "display": null,
            "flex": null,
            "flex_flow": null,
            "grid_area": null,
            "grid_auto_columns": null,
            "grid_auto_flow": null,
            "grid_auto_rows": null,
            "grid_column": null,
            "grid_gap": null,
            "grid_row": null,
            "grid_template_areas": null,
            "grid_template_columns": null,
            "grid_template_rows": null,
            "height": null,
            "justify_content": null,
            "justify_items": null,
            "left": null,
            "margin": null,
            "max_height": null,
            "max_width": null,
            "min_height": null,
            "min_width": null,
            "object_fit": null,
            "object_position": null,
            "order": null,
            "overflow": null,
            "overflow_x": null,
            "overflow_y": null,
            "padding": null,
            "right": null,
            "top": null,
            "visibility": null,
            "width": null
          }
        },
        "a70a20fa5ffd4d7d9f7da8fd650d25e9": {
          "model_module": "@jupyter-widgets/controls",
          "model_name": "DescriptionStyleModel",
          "model_module_version": "1.5.0",
          "state": {
            "_model_module": "@jupyter-widgets/controls",
            "_model_module_version": "1.5.0",
            "_model_name": "DescriptionStyleModel",
            "_view_count": null,
            "_view_module": "@jupyter-widgets/base",
            "_view_module_version": "1.2.0",
            "_view_name": "StyleView",
            "description_width": ""
          }
        },
        "3876e39b2f94468fb76193faf5a5a816": {
          "model_module": "@jupyter-widgets/controls",
          "model_name": "HBoxModel",
          "model_module_version": "1.5.0",
          "state": {
            "_dom_classes": [],
            "_model_module": "@jupyter-widgets/controls",
            "_model_module_version": "1.5.0",
            "_model_name": "HBoxModel",
            "_view_count": null,
            "_view_module": "@jupyter-widgets/controls",
            "_view_module_version": "1.5.0",
            "_view_name": "HBoxView",
            "box_style": "",
            "children": [
              "IPY_MODEL_ffe606a9f2d145708f9491ee9883088b",
              "IPY_MODEL_6d5e5a0a0d5c44f5a49742452cf03db8",
              "IPY_MODEL_15526ac4c4dd43e5af03dc5358f04c30"
            ],
            "layout": "IPY_MODEL_6850b70ceabe449db076c2e6a98a9ccc"
          }
        },
        "ffe606a9f2d145708f9491ee9883088b": {
          "model_module": "@jupyter-widgets/controls",
          "model_name": "HTMLModel",
          "model_module_version": "1.5.0",
          "state": {
            "_dom_classes": [],
            "_model_module": "@jupyter-widgets/controls",
            "_model_module_version": "1.5.0",
            "_model_name": "HTMLModel",
            "_view_count": null,
            "_view_module": "@jupyter-widgets/controls",
            "_view_module_version": "1.5.0",
            "_view_name": "HTMLView",
            "description": "",
            "description_tooltip": null,
            "layout": "IPY_MODEL_9c3c1548c0b54f9ea3aa4008bfa46a2e",
            "placeholder": "​",
            "style": "IPY_MODEL_4c377f6b72a048788ba3d27cda4164d0",
            "value": "Downloading: 100%"
          }
        },
        "6d5e5a0a0d5c44f5a49742452cf03db8": {
          "model_module": "@jupyter-widgets/controls",
          "model_name": "FloatProgressModel",
          "model_module_version": "1.5.0",
          "state": {
            "_dom_classes": [],
            "_model_module": "@jupyter-widgets/controls",
            "_model_module_version": "1.5.0",
            "_model_name": "FloatProgressModel",
            "_view_count": null,
            "_view_module": "@jupyter-widgets/controls",
            "_view_module_version": "1.5.0",
            "_view_name": "ProgressView",
            "bar_style": "success",
            "description": "",
            "description_tooltip": null,
            "layout": "IPY_MODEL_293ac1ae261c423fa8ea164a928ca4a4",
            "max": 1000,
            "min": 0,
            "orientation": "horizontal",
            "style": "IPY_MODEL_8a5cab8b559d44bbbc13734a73d87a3d",
            "value": 1000
          }
        },
        "15526ac4c4dd43e5af03dc5358f04c30": {
          "model_module": "@jupyter-widgets/controls",
          "model_name": "HTMLModel",
          "model_module_version": "1.5.0",
          "state": {
            "_dom_classes": [],
            "_model_module": "@jupyter-widgets/controls",
            "_model_module_version": "1.5.0",
            "_model_name": "HTMLModel",
            "_view_count": null,
            "_view_module": "@jupyter-widgets/controls",
            "_view_module_version": "1.5.0",
            "_view_name": "HTMLView",
            "description": "",
            "description_tooltip": null,
            "layout": "IPY_MODEL_ee85c058e728484ab2634ab1dfa0c494",
            "placeholder": "​",
            "style": "IPY_MODEL_6485b8570a99432bb45448d35dd3f6c0",
            "value": " 1.00k/1.00k [00:00&lt;00:00, 45.5kB/s]"
          }
        },
        "6850b70ceabe449db076c2e6a98a9ccc": {
          "model_module": "@jupyter-widgets/base",
          "model_name": "LayoutModel",
          "model_module_version": "1.2.0",
          "state": {
            "_model_module": "@jupyter-widgets/base",
            "_model_module_version": "1.2.0",
            "_model_name": "LayoutModel",
            "_view_count": null,
            "_view_module": "@jupyter-widgets/base",
            "_view_module_version": "1.2.0",
            "_view_name": "LayoutView",
            "align_content": null,
            "align_items": null,
            "align_self": null,
            "border": null,
            "bottom": null,
            "display": null,
            "flex": null,
            "flex_flow": null,
            "grid_area": null,
            "grid_auto_columns": null,
            "grid_auto_flow": null,
            "grid_auto_rows": null,
            "grid_column": null,
            "grid_gap": null,
            "grid_row": null,
            "grid_template_areas": null,
            "grid_template_columns": null,
            "grid_template_rows": null,
            "height": null,
            "justify_content": null,
            "justify_items": null,
            "left": null,
            "margin": null,
            "max_height": null,
            "max_width": null,
            "min_height": null,
            "min_width": null,
            "object_fit": null,
            "object_position": null,
            "order": null,
            "overflow": null,
            "overflow_x": null,
            "overflow_y": null,
            "padding": null,
            "right": null,
            "top": null,
            "visibility": null,
            "width": null
          }
        },
        "9c3c1548c0b54f9ea3aa4008bfa46a2e": {
          "model_module": "@jupyter-widgets/base",
          "model_name": "LayoutModel",
          "model_module_version": "1.2.0",
          "state": {
            "_model_module": "@jupyter-widgets/base",
            "_model_module_version": "1.2.0",
            "_model_name": "LayoutModel",
            "_view_count": null,
            "_view_module": "@jupyter-widgets/base",
            "_view_module_version": "1.2.0",
            "_view_name": "LayoutView",
            "align_content": null,
            "align_items": null,
            "align_self": null,
            "border": null,
            "bottom": null,
            "display": null,
            "flex": null,
            "flex_flow": null,
            "grid_area": null,
            "grid_auto_columns": null,
            "grid_auto_flow": null,
            "grid_auto_rows": null,
            "grid_column": null,
            "grid_gap": null,
            "grid_row": null,
            "grid_template_areas": null,
            "grid_template_columns": null,
            "grid_template_rows": null,
            "height": null,
            "justify_content": null,
            "justify_items": null,
            "left": null,
            "margin": null,
            "max_height": null,
            "max_width": null,
            "min_height": null,
            "min_width": null,
            "object_fit": null,
            "object_position": null,
            "order": null,
            "overflow": null,
            "overflow_x": null,
            "overflow_y": null,
            "padding": null,
            "right": null,
            "top": null,
            "visibility": null,
            "width": null
          }
        },
        "4c377f6b72a048788ba3d27cda4164d0": {
          "model_module": "@jupyter-widgets/controls",
          "model_name": "DescriptionStyleModel",
          "model_module_version": "1.5.0",
          "state": {
            "_model_module": "@jupyter-widgets/controls",
            "_model_module_version": "1.5.0",
            "_model_name": "DescriptionStyleModel",
            "_view_count": null,
            "_view_module": "@jupyter-widgets/base",
            "_view_module_version": "1.2.0",
            "_view_name": "StyleView",
            "description_width": ""
          }
        },
        "293ac1ae261c423fa8ea164a928ca4a4": {
          "model_module": "@jupyter-widgets/base",
          "model_name": "LayoutModel",
          "model_module_version": "1.2.0",
          "state": {
            "_model_module": "@jupyter-widgets/base",
            "_model_module_version": "1.2.0",
            "_model_name": "LayoutModel",
            "_view_count": null,
            "_view_module": "@jupyter-widgets/base",
            "_view_module_version": "1.2.0",
            "_view_name": "LayoutView",
            "align_content": null,
            "align_items": null,
            "align_self": null,
            "border": null,
            "bottom": null,
            "display": null,
            "flex": null,
            "flex_flow": null,
            "grid_area": null,
            "grid_auto_columns": null,
            "grid_auto_flow": null,
            "grid_auto_rows": null,
            "grid_column": null,
            "grid_gap": null,
            "grid_row": null,
            "grid_template_areas": null,
            "grid_template_columns": null,
            "grid_template_rows": null,
            "height": null,
            "justify_content": null,
            "justify_items": null,
            "left": null,
            "margin": null,
            "max_height": null,
            "max_width": null,
            "min_height": null,
            "min_width": null,
            "object_fit": null,
            "object_position": null,
            "order": null,
            "overflow": null,
            "overflow_x": null,
            "overflow_y": null,
            "padding": null,
            "right": null,
            "top": null,
            "visibility": null,
            "width": null
          }
        },
        "8a5cab8b559d44bbbc13734a73d87a3d": {
          "model_module": "@jupyter-widgets/controls",
          "model_name": "ProgressStyleModel",
          "model_module_version": "1.5.0",
          "state": {
            "_model_module": "@jupyter-widgets/controls",
            "_model_module_version": "1.5.0",
            "_model_name": "ProgressStyleModel",
            "_view_count": null,
            "_view_module": "@jupyter-widgets/base",
            "_view_module_version": "1.2.0",
            "_view_name": "StyleView",
            "bar_color": null,
            "description_width": ""
          }
        },
        "ee85c058e728484ab2634ab1dfa0c494": {
          "model_module": "@jupyter-widgets/base",
          "model_name": "LayoutModel",
          "model_module_version": "1.2.0",
          "state": {
            "_model_module": "@jupyter-widgets/base",
            "_model_module_version": "1.2.0",
            "_model_name": "LayoutModel",
            "_view_count": null,
            "_view_module": "@jupyter-widgets/base",
            "_view_module_version": "1.2.0",
            "_view_name": "LayoutView",
            "align_content": null,
            "align_items": null,
            "align_self": null,
            "border": null,
            "bottom": null,
            "display": null,
            "flex": null,
            "flex_flow": null,
            "grid_area": null,
            "grid_auto_columns": null,
            "grid_auto_flow": null,
            "grid_auto_rows": null,
            "grid_column": null,
            "grid_gap": null,
            "grid_row": null,
            "grid_template_areas": null,
            "grid_template_columns": null,
            "grid_template_rows": null,
            "height": null,
            "justify_content": null,
            "justify_items": null,
            "left": null,
            "margin": null,
            "max_height": null,
            "max_width": null,
            "min_height": null,
            "min_width": null,
            "object_fit": null,
            "object_position": null,
            "order": null,
            "overflow": null,
            "overflow_x": null,
            "overflow_y": null,
            "padding": null,
            "right": null,
            "top": null,
            "visibility": null,
            "width": null
          }
        },
        "6485b8570a99432bb45448d35dd3f6c0": {
          "model_module": "@jupyter-widgets/controls",
          "model_name": "DescriptionStyleModel",
          "model_module_version": "1.5.0",
          "state": {
            "_model_module": "@jupyter-widgets/controls",
            "_model_module_version": "1.5.0",
            "_model_name": "DescriptionStyleModel",
            "_view_count": null,
            "_view_module": "@jupyter-widgets/base",
            "_view_module_version": "1.2.0",
            "_view_name": "StyleView",
            "description_width": ""
          }
        },
        "45ec28ceb84a4feda5a4d80044765b0d": {
          "model_module": "@jupyter-widgets/controls",
          "model_name": "HBoxModel",
          "model_module_version": "1.5.0",
          "state": {
            "_dom_classes": [],
            "_model_module": "@jupyter-widgets/controls",
            "_model_module_version": "1.5.0",
            "_model_name": "HBoxModel",
            "_view_count": null,
            "_view_module": "@jupyter-widgets/controls",
            "_view_module_version": "1.5.0",
            "_view_name": "HBoxView",
            "box_style": "",
            "children": [
              "IPY_MODEL_6a36afa44a274ebbb498623c86085bc0",
              "IPY_MODEL_b1677758bdca45b7b64dc7fcef63bc41",
              "IPY_MODEL_912cc3402c174cce913fdd1abc74d424"
            ],
            "layout": "IPY_MODEL_071a1106508e475e9b70bf6fde01537e"
          }
        },
        "6a36afa44a274ebbb498623c86085bc0": {
          "model_module": "@jupyter-widgets/controls",
          "model_name": "HTMLModel",
          "model_module_version": "1.5.0",
          "state": {
            "_dom_classes": [],
            "_model_module": "@jupyter-widgets/controls",
            "_model_module_version": "1.5.0",
            "_model_name": "HTMLModel",
            "_view_count": null,
            "_view_module": "@jupyter-widgets/controls",
            "_view_module_version": "1.5.0",
            "_view_name": "HTMLView",
            "description": "",
            "description_tooltip": null,
            "layout": "IPY_MODEL_69ca269b7e5c4b3fa4360f431f270b15",
            "placeholder": "​",
            "style": "IPY_MODEL_fd0aeb35522c41098daae17b83f2fbc2",
            "value": "Downloading: 100%"
          }
        },
        "b1677758bdca45b7b64dc7fcef63bc41": {
          "model_module": "@jupyter-widgets/controls",
          "model_name": "FloatProgressModel",
          "model_module_version": "1.5.0",
          "state": {
            "_dom_classes": [],
            "_model_module": "@jupyter-widgets/controls",
            "_model_module_version": "1.5.0",
            "_model_name": "FloatProgressModel",
            "_view_count": null,
            "_view_module": "@jupyter-widgets/controls",
            "_view_module_version": "1.5.0",
            "_view_name": "ProgressView",
            "bar_style": "success",
            "description": "",
            "description_tooltip": null,
            "layout": "IPY_MODEL_d4d3998d77dc4b7abf2c73856cb902d8",
            "max": 231508,
            "min": 0,
            "orientation": "horizontal",
            "style": "IPY_MODEL_93043106b2314c1a80538d6f9403337b",
            "value": 231508
          }
        },
        "912cc3402c174cce913fdd1abc74d424": {
          "model_module": "@jupyter-widgets/controls",
          "model_name": "HTMLModel",
          "model_module_version": "1.5.0",
          "state": {
            "_dom_classes": [],
            "_model_module": "@jupyter-widgets/controls",
            "_model_module_version": "1.5.0",
            "_model_name": "HTMLModel",
            "_view_count": null,
            "_view_module": "@jupyter-widgets/controls",
            "_view_module_version": "1.5.0",
            "_view_name": "HTMLView",
            "description": "",
            "description_tooltip": null,
            "layout": "IPY_MODEL_65d52f7fa313492bac7384ca1f6619df",
            "placeholder": "​",
            "style": "IPY_MODEL_46ea58843d594f16893ff8043876b2a0",
            "value": " 232k/232k [00:00&lt;00:00, 262kB/s]"
          }
        },
        "071a1106508e475e9b70bf6fde01537e": {
          "model_module": "@jupyter-widgets/base",
          "model_name": "LayoutModel",
          "model_module_version": "1.2.0",
          "state": {
            "_model_module": "@jupyter-widgets/base",
            "_model_module_version": "1.2.0",
            "_model_name": "LayoutModel",
            "_view_count": null,
            "_view_module": "@jupyter-widgets/base",
            "_view_module_version": "1.2.0",
            "_view_name": "LayoutView",
            "align_content": null,
            "align_items": null,
            "align_self": null,
            "border": null,
            "bottom": null,
            "display": null,
            "flex": null,
            "flex_flow": null,
            "grid_area": null,
            "grid_auto_columns": null,
            "grid_auto_flow": null,
            "grid_auto_rows": null,
            "grid_column": null,
            "grid_gap": null,
            "grid_row": null,
            "grid_template_areas": null,
            "grid_template_columns": null,
            "grid_template_rows": null,
            "height": null,
            "justify_content": null,
            "justify_items": null,
            "left": null,
            "margin": null,
            "max_height": null,
            "max_width": null,
            "min_height": null,
            "min_width": null,
            "object_fit": null,
            "object_position": null,
            "order": null,
            "overflow": null,
            "overflow_x": null,
            "overflow_y": null,
            "padding": null,
            "right": null,
            "top": null,
            "visibility": null,
            "width": null
          }
        },
        "69ca269b7e5c4b3fa4360f431f270b15": {
          "model_module": "@jupyter-widgets/base",
          "model_name": "LayoutModel",
          "model_module_version": "1.2.0",
          "state": {
            "_model_module": "@jupyter-widgets/base",
            "_model_module_version": "1.2.0",
            "_model_name": "LayoutModel",
            "_view_count": null,
            "_view_module": "@jupyter-widgets/base",
            "_view_module_version": "1.2.0",
            "_view_name": "LayoutView",
            "align_content": null,
            "align_items": null,
            "align_self": null,
            "border": null,
            "bottom": null,
            "display": null,
            "flex": null,
            "flex_flow": null,
            "grid_area": null,
            "grid_auto_columns": null,
            "grid_auto_flow": null,
            "grid_auto_rows": null,
            "grid_column": null,
            "grid_gap": null,
            "grid_row": null,
            "grid_template_areas": null,
            "grid_template_columns": null,
            "grid_template_rows": null,
            "height": null,
            "justify_content": null,
            "justify_items": null,
            "left": null,
            "margin": null,
            "max_height": null,
            "max_width": null,
            "min_height": null,
            "min_width": null,
            "object_fit": null,
            "object_position": null,
            "order": null,
            "overflow": null,
            "overflow_x": null,
            "overflow_y": null,
            "padding": null,
            "right": null,
            "top": null,
            "visibility": null,
            "width": null
          }
        },
        "fd0aeb35522c41098daae17b83f2fbc2": {
          "model_module": "@jupyter-widgets/controls",
          "model_name": "DescriptionStyleModel",
          "model_module_version": "1.5.0",
          "state": {
            "_model_module": "@jupyter-widgets/controls",
            "_model_module_version": "1.5.0",
            "_model_name": "DescriptionStyleModel",
            "_view_count": null,
            "_view_module": "@jupyter-widgets/base",
            "_view_module_version": "1.2.0",
            "_view_name": "StyleView",
            "description_width": ""
          }
        },
        "d4d3998d77dc4b7abf2c73856cb902d8": {
          "model_module": "@jupyter-widgets/base",
          "model_name": "LayoutModel",
          "model_module_version": "1.2.0",
          "state": {
            "_model_module": "@jupyter-widgets/base",
            "_model_module_version": "1.2.0",
            "_model_name": "LayoutModel",
            "_view_count": null,
            "_view_module": "@jupyter-widgets/base",
            "_view_module_version": "1.2.0",
            "_view_name": "LayoutView",
            "align_content": null,
            "align_items": null,
            "align_self": null,
            "border": null,
            "bottom": null,
            "display": null,
            "flex": null,
            "flex_flow": null,
            "grid_area": null,
            "grid_auto_columns": null,
            "grid_auto_flow": null,
            "grid_auto_rows": null,
            "grid_column": null,
            "grid_gap": null,
            "grid_row": null,
            "grid_template_areas": null,
            "grid_template_columns": null,
            "grid_template_rows": null,
            "height": null,
            "justify_content": null,
            "justify_items": null,
            "left": null,
            "margin": null,
            "max_height": null,
            "max_width": null,
            "min_height": null,
            "min_width": null,
            "object_fit": null,
            "object_position": null,
            "order": null,
            "overflow": null,
            "overflow_x": null,
            "overflow_y": null,
            "padding": null,
            "right": null,
            "top": null,
            "visibility": null,
            "width": null
          }
        },
        "93043106b2314c1a80538d6f9403337b": {
          "model_module": "@jupyter-widgets/controls",
          "model_name": "ProgressStyleModel",
          "model_module_version": "1.5.0",
          "state": {
            "_model_module": "@jupyter-widgets/controls",
            "_model_module_version": "1.5.0",
            "_model_name": "ProgressStyleModel",
            "_view_count": null,
            "_view_module": "@jupyter-widgets/base",
            "_view_module_version": "1.2.0",
            "_view_name": "StyleView",
            "bar_color": null,
            "description_width": ""
          }
        },
        "65d52f7fa313492bac7384ca1f6619df": {
          "model_module": "@jupyter-widgets/base",
          "model_name": "LayoutModel",
          "model_module_version": "1.2.0",
          "state": {
            "_model_module": "@jupyter-widgets/base",
            "_model_module_version": "1.2.0",
            "_model_name": "LayoutModel",
            "_view_count": null,
            "_view_module": "@jupyter-widgets/base",
            "_view_module_version": "1.2.0",
            "_view_name": "LayoutView",
            "align_content": null,
            "align_items": null,
            "align_self": null,
            "border": null,
            "bottom": null,
            "display": null,
            "flex": null,
            "flex_flow": null,
            "grid_area": null,
            "grid_auto_columns": null,
            "grid_auto_flow": null,
            "grid_auto_rows": null,
            "grid_column": null,
            "grid_gap": null,
            "grid_row": null,
            "grid_template_areas": null,
            "grid_template_columns": null,
            "grid_template_rows": null,
            "height": null,
            "justify_content": null,
            "justify_items": null,
            "left": null,
            "margin": null,
            "max_height": null,
            "max_width": null,
            "min_height": null,
            "min_width": null,
            "object_fit": null,
            "object_position": null,
            "order": null,
            "overflow": null,
            "overflow_x": null,
            "overflow_y": null,
            "padding": null,
            "right": null,
            "top": null,
            "visibility": null,
            "width": null
          }
        },
        "46ea58843d594f16893ff8043876b2a0": {
          "model_module": "@jupyter-widgets/controls",
          "model_name": "DescriptionStyleModel",
          "model_module_version": "1.5.0",
          "state": {
            "_model_module": "@jupyter-widgets/controls",
            "_model_module_version": "1.5.0",
            "_model_name": "DescriptionStyleModel",
            "_view_count": null,
            "_view_module": "@jupyter-widgets/base",
            "_view_module_version": "1.2.0",
            "_view_name": "StyleView",
            "description_width": ""
          }
        },
        "2012ee9d9114400481fd723b18bfed0f": {
          "model_module": "@jupyter-widgets/controls",
          "model_name": "HBoxModel",
          "model_module_version": "1.5.0",
          "state": {
            "_dom_classes": [],
            "_model_module": "@jupyter-widgets/controls",
            "_model_module_version": "1.5.0",
            "_model_name": "HBoxModel",
            "_view_count": null,
            "_view_module": "@jupyter-widgets/controls",
            "_view_module_version": "1.5.0",
            "_view_name": "HBoxView",
            "box_style": "",
            "children": [
              "IPY_MODEL_6ee3eb7f5c87433cbd6872eeca6c8cae",
              "IPY_MODEL_21341e573d1b4afcbead7c84fc6eaba1",
              "IPY_MODEL_7ba35ec1214c4877819bf0258c167ecc"
            ],
            "layout": "IPY_MODEL_ab621a7604d44e26a621eb8ed317f583"
          }
        },
        "6ee3eb7f5c87433cbd6872eeca6c8cae": {
          "model_module": "@jupyter-widgets/controls",
          "model_name": "HTMLModel",
          "model_module_version": "1.5.0",
          "state": {
            "_dom_classes": [],
            "_model_module": "@jupyter-widgets/controls",
            "_model_module_version": "1.5.0",
            "_model_name": "HTMLModel",
            "_view_count": null,
            "_view_module": "@jupyter-widgets/controls",
            "_view_module_version": "1.5.0",
            "_view_name": "HTMLView",
            "description": "",
            "description_tooltip": null,
            "layout": "IPY_MODEL_510e5492bf174468b0e1b19258c724ee",
            "placeholder": "​",
            "style": "IPY_MODEL_a6d7e3eebc9f46d7a98553f49d940dfe",
            "value": "Downloading: 100%"
          }
        },
        "21341e573d1b4afcbead7c84fc6eaba1": {
          "model_module": "@jupyter-widgets/controls",
          "model_name": "FloatProgressModel",
          "model_module_version": "1.5.0",
          "state": {
            "_dom_classes": [],
            "_model_module": "@jupyter-widgets/controls",
            "_model_module_version": "1.5.0",
            "_model_name": "FloatProgressModel",
            "_view_count": null,
            "_view_module": "@jupyter-widgets/controls",
            "_view_module_version": "1.5.0",
            "_view_name": "ProgressView",
            "bar_style": "success",
            "description": "",
            "description_tooltip": null,
            "layout": "IPY_MODEL_ee36c42a42d749af992b677157edd92a",
            "max": 536063208,
            "min": 0,
            "orientation": "horizontal",
            "style": "IPY_MODEL_3c2c47a1f9784fa2966a4d2fb9b1c828",
            "value": 536063208
          }
        },
        "7ba35ec1214c4877819bf0258c167ecc": {
          "model_module": "@jupyter-widgets/controls",
          "model_name": "HTMLModel",
          "model_module_version": "1.5.0",
          "state": {
            "_dom_classes": [],
            "_model_module": "@jupyter-widgets/controls",
            "_model_module_version": "1.5.0",
            "_model_name": "HTMLModel",
            "_view_count": null,
            "_view_module": "@jupyter-widgets/controls",
            "_view_module_version": "1.5.0",
            "_view_name": "HTMLView",
            "description": "",
            "description_tooltip": null,
            "layout": "IPY_MODEL_989ab399c6fe4d7ca34d881d933549d4",
            "placeholder": "​",
            "style": "IPY_MODEL_aa7d1d0aaf254e148f14b4a0863b9349",
            "value": " 536M/536M [00:08&lt;00:00, 85.8MB/s]"
          }
        },
        "ab621a7604d44e26a621eb8ed317f583": {
          "model_module": "@jupyter-widgets/base",
          "model_name": "LayoutModel",
          "model_module_version": "1.2.0",
          "state": {
            "_model_module": "@jupyter-widgets/base",
            "_model_module_version": "1.2.0",
            "_model_name": "LayoutModel",
            "_view_count": null,
            "_view_module": "@jupyter-widgets/base",
            "_view_module_version": "1.2.0",
            "_view_name": "LayoutView",
            "align_content": null,
            "align_items": null,
            "align_self": null,
            "border": null,
            "bottom": null,
            "display": null,
            "flex": null,
            "flex_flow": null,
            "grid_area": null,
            "grid_auto_columns": null,
            "grid_auto_flow": null,
            "grid_auto_rows": null,
            "grid_column": null,
            "grid_gap": null,
            "grid_row": null,
            "grid_template_areas": null,
            "grid_template_columns": null,
            "grid_template_rows": null,
            "height": null,
            "justify_content": null,
            "justify_items": null,
            "left": null,
            "margin": null,
            "max_height": null,
            "max_width": null,
            "min_height": null,
            "min_width": null,
            "object_fit": null,
            "object_position": null,
            "order": null,
            "overflow": null,
            "overflow_x": null,
            "overflow_y": null,
            "padding": null,
            "right": null,
            "top": null,
            "visibility": null,
            "width": null
          }
        },
        "510e5492bf174468b0e1b19258c724ee": {
          "model_module": "@jupyter-widgets/base",
          "model_name": "LayoutModel",
          "model_module_version": "1.2.0",
          "state": {
            "_model_module": "@jupyter-widgets/base",
            "_model_module_version": "1.2.0",
            "_model_name": "LayoutModel",
            "_view_count": null,
            "_view_module": "@jupyter-widgets/base",
            "_view_module_version": "1.2.0",
            "_view_name": "LayoutView",
            "align_content": null,
            "align_items": null,
            "align_self": null,
            "border": null,
            "bottom": null,
            "display": null,
            "flex": null,
            "flex_flow": null,
            "grid_area": null,
            "grid_auto_columns": null,
            "grid_auto_flow": null,
            "grid_auto_rows": null,
            "grid_column": null,
            "grid_gap": null,
            "grid_row": null,
            "grid_template_areas": null,
            "grid_template_columns": null,
            "grid_template_rows": null,
            "height": null,
            "justify_content": null,
            "justify_items": null,
            "left": null,
            "margin": null,
            "max_height": null,
            "max_width": null,
            "min_height": null,
            "min_width": null,
            "object_fit": null,
            "object_position": null,
            "order": null,
            "overflow": null,
            "overflow_x": null,
            "overflow_y": null,
            "padding": null,
            "right": null,
            "top": null,
            "visibility": null,
            "width": null
          }
        },
        "a6d7e3eebc9f46d7a98553f49d940dfe": {
          "model_module": "@jupyter-widgets/controls",
          "model_name": "DescriptionStyleModel",
          "model_module_version": "1.5.0",
          "state": {
            "_model_module": "@jupyter-widgets/controls",
            "_model_module_version": "1.5.0",
            "_model_name": "DescriptionStyleModel",
            "_view_count": null,
            "_view_module": "@jupyter-widgets/base",
            "_view_module_version": "1.2.0",
            "_view_name": "StyleView",
            "description_width": ""
          }
        },
        "ee36c42a42d749af992b677157edd92a": {
          "model_module": "@jupyter-widgets/base",
          "model_name": "LayoutModel",
          "model_module_version": "1.2.0",
          "state": {
            "_model_module": "@jupyter-widgets/base",
            "_model_module_version": "1.2.0",
            "_model_name": "LayoutModel",
            "_view_count": null,
            "_view_module": "@jupyter-widgets/base",
            "_view_module_version": "1.2.0",
            "_view_name": "LayoutView",
            "align_content": null,
            "align_items": null,
            "align_self": null,
            "border": null,
            "bottom": null,
            "display": null,
            "flex": null,
            "flex_flow": null,
            "grid_area": null,
            "grid_auto_columns": null,
            "grid_auto_flow": null,
            "grid_auto_rows": null,
            "grid_column": null,
            "grid_gap": null,
            "grid_row": null,
            "grid_template_areas": null,
            "grid_template_columns": null,
            "grid_template_rows": null,
            "height": null,
            "justify_content": null,
            "justify_items": null,
            "left": null,
            "margin": null,
            "max_height": null,
            "max_width": null,
            "min_height": null,
            "min_width": null,
            "object_fit": null,
            "object_position": null,
            "order": null,
            "overflow": null,
            "overflow_x": null,
            "overflow_y": null,
            "padding": null,
            "right": null,
            "top": null,
            "visibility": null,
            "width": null
          }
        },
        "3c2c47a1f9784fa2966a4d2fb9b1c828": {
          "model_module": "@jupyter-widgets/controls",
          "model_name": "ProgressStyleModel",
          "model_module_version": "1.5.0",
          "state": {
            "_model_module": "@jupyter-widgets/controls",
            "_model_module_version": "1.5.0",
            "_model_name": "ProgressStyleModel",
            "_view_count": null,
            "_view_module": "@jupyter-widgets/base",
            "_view_module_version": "1.2.0",
            "_view_name": "StyleView",
            "bar_color": null,
            "description_width": ""
          }
        },
        "989ab399c6fe4d7ca34d881d933549d4": {
          "model_module": "@jupyter-widgets/base",
          "model_name": "LayoutModel",
          "model_module_version": "1.2.0",
          "state": {
            "_model_module": "@jupyter-widgets/base",
            "_model_module_version": "1.2.0",
            "_model_name": "LayoutModel",
            "_view_count": null,
            "_view_module": "@jupyter-widgets/base",
            "_view_module_version": "1.2.0",
            "_view_name": "LayoutView",
            "align_content": null,
            "align_items": null,
            "align_self": null,
            "border": null,
            "bottom": null,
            "display": null,
            "flex": null,
            "flex_flow": null,
            "grid_area": null,
            "grid_auto_columns": null,
            "grid_auto_flow": null,
            "grid_auto_rows": null,
            "grid_column": null,
            "grid_gap": null,
            "grid_row": null,
            "grid_template_areas": null,
            "grid_template_columns": null,
            "grid_template_rows": null,
            "height": null,
            "justify_content": null,
            "justify_items": null,
            "left": null,
            "margin": null,
            "max_height": null,
            "max_width": null,
            "min_height": null,
            "min_width": null,
            "object_fit": null,
            "object_position": null,
            "order": null,
            "overflow": null,
            "overflow_x": null,
            "overflow_y": null,
            "padding": null,
            "right": null,
            "top": null,
            "visibility": null,
            "width": null
          }
        },
        "aa7d1d0aaf254e148f14b4a0863b9349": {
          "model_module": "@jupyter-widgets/controls",
          "model_name": "DescriptionStyleModel",
          "model_module_version": "1.5.0",
          "state": {
            "_model_module": "@jupyter-widgets/controls",
            "_model_module_version": "1.5.0",
            "_model_name": "DescriptionStyleModel",
            "_view_count": null,
            "_view_module": "@jupyter-widgets/base",
            "_view_module_version": "1.2.0",
            "_view_name": "StyleView",
            "description_width": ""
          }
        }
      }
    }
  },
  "nbformat": 4,
  "nbformat_minor": 0
}